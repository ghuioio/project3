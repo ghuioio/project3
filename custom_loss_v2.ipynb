{
  "nbformat": 4,
  "nbformat_minor": 0,
  "metadata": {
    "colab": {
      "name": "custom_loss.ipynb",
      "provenance": [],
      "collapsed_sections": [],
      "authorship_tag": "ABX9TyO41wD7Ka39CwViRMHooBqm",
      "include_colab_link": true
    },
    "kernelspec": {
      "name": "python3",
      "display_name": "Python 3"
    },
    "language_info": {
      "name": "python"
    }
  },
  "cells": [
    {
      "cell_type": "markdown",
      "metadata": {
        "id": "view-in-github",
        "colab_type": "text"
      },
      "source": [
        "<a href=\"https://colab.research.google.com/github/ghuioio/project3/blob/main/custom_loss_v2.ipynb\" target=\"_parent\"><img src=\"https://colab.research.google.com/assets/colab-badge.svg\" alt=\"Open In Colab\"/></a>"
      ]
    },
    {
      "cell_type": "code",
      "metadata": {
        "colab": {
          "base_uri": "https://localhost:8080/"
        },
        "id": "ASExv7eLflcz",
        "outputId": "630b0ad3-1c7f-4b18-f713-6f420898285e"
      },
      "source": [
        "pip install yfinance"
      ],
      "execution_count": 16,
      "outputs": [
        {
          "output_type": "stream",
          "name": "stdout",
          "text": [
            "Requirement already satisfied: yfinance in /usr/local/lib/python3.7/dist-packages (0.1.67)\n",
            "Requirement already satisfied: multitasking>=0.0.7 in /usr/local/lib/python3.7/dist-packages (from yfinance) (0.0.10)\n",
            "Requirement already satisfied: pandas>=0.24 in /usr/local/lib/python3.7/dist-packages (from yfinance) (1.1.5)\n",
            "Requirement already satisfied: numpy>=1.15 in /usr/local/lib/python3.7/dist-packages (from yfinance) (1.19.5)\n",
            "Requirement already satisfied: lxml>=4.5.1 in /usr/local/lib/python3.7/dist-packages (from yfinance) (4.6.5)\n",
            "Requirement already satisfied: requests>=2.20 in /usr/local/lib/python3.7/dist-packages (from yfinance) (2.23.0)\n",
            "Requirement already satisfied: python-dateutil>=2.7.3 in /usr/local/lib/python3.7/dist-packages (from pandas>=0.24->yfinance) (2.8.2)\n",
            "Requirement already satisfied: pytz>=2017.2 in /usr/local/lib/python3.7/dist-packages (from pandas>=0.24->yfinance) (2018.9)\n",
            "Requirement already satisfied: six>=1.5 in /usr/local/lib/python3.7/dist-packages (from python-dateutil>=2.7.3->pandas>=0.24->yfinance) (1.15.0)\n",
            "Requirement already satisfied: urllib3!=1.25.0,!=1.25.1,<1.26,>=1.21.1 in /usr/local/lib/python3.7/dist-packages (from requests>=2.20->yfinance) (1.24.3)\n",
            "Requirement already satisfied: idna<3,>=2.5 in /usr/local/lib/python3.7/dist-packages (from requests>=2.20->yfinance) (2.10)\n",
            "Requirement already satisfied: chardet<4,>=3.0.2 in /usr/local/lib/python3.7/dist-packages (from requests>=2.20->yfinance) (3.0.4)\n",
            "Requirement already satisfied: certifi>=2017.4.17 in /usr/local/lib/python3.7/dist-packages (from requests>=2.20->yfinance) (2021.10.8)\n"
          ]
        }
      ]
    },
    {
      "cell_type": "code",
      "metadata": {
        "id": "egACvgCTfp1s"
      },
      "source": [
        "import numpy as np\n",
        "np.random.seed(1) # for reproducibility\n",
        "import keras\n",
        "import keras.backend as K\n",
        "import tensorflow as tf\n",
        "tf.config.run_functions_eagerly(True)\n",
        "import yfinance as yf\n",
        "import matplotlib.pyplot as plt\n",
        "import time\n",
        "import os\n",
        "import pickle\n",
        "import numpy as np\n",
        "from keras.models import Sequential, load_model\n",
        "from keras.layers import LSTM, Dense\n",
        "from keras.callbacks import ModelCheckpoint\n",
        "from keras import optimizers\n",
        "from sklearn.preprocessing import MinMaxScaler\n",
        "from sklearn.model_selection import train_test_split\n",
        "from sklearn.metrics import mean_squared_error, mean_absolute_error"
      ],
      "execution_count": 17,
      "outputs": []
    },
    {
      "cell_type": "code",
      "metadata": {
        "colab": {
          "base_uri": "https://localhost:8080/"
        },
        "id": "-pjOWx4gfsVl",
        "outputId": "3ade1e26-fdbc-4e65-de92-f49a3012a247"
      },
      "source": [
        "hsbc = yf.download('0005.HK', '2000-01-01', '2021-01-01')\n",
        "hsbc = hsbc.drop(['Adj Close'], axis=1)\n",
        "hsbc = hsbc.drop(hsbc[hsbc.Volume==0].index)\n",
        "print(hsbc.head())"
      ],
      "execution_count": 18,
      "outputs": [
        {
          "output_type": "stream",
          "name": "stdout",
          "text": [
            "\r[*********************100%***********************]  1 of 1 completed\n",
            "             Open   High     Low  Close    Volume\n",
            "Date                                             \n",
            "2000-01-03  111.0  111.5  107.50  108.0   3908164\n",
            "2000-01-04  106.0  106.5  105.00  106.0   6895378\n",
            "2000-01-05  101.0  102.0   99.50  100.5  14657098\n",
            "2000-01-06  101.0  102.0   96.25   97.0  10632084\n",
            "2000-01-07   98.5  101.0   97.50  100.5   8368286\n"
          ]
        }
      ]
    },
    {
      "cell_type": "code",
      "metadata": {
        "colab": {
          "base_uri": "https://localhost:8080/",
          "height": 279
        },
        "id": "11lQdsV3fumn",
        "outputId": "918d0bf5-1694-4afe-c230-35adf83286e6"
      },
      "source": [
        "fig, ax1 = plt.subplots()\n",
        "ax1.set_title('HSBC stock price', fontsize=10)\n",
        "ax1.plot(hsbc['Close'])\n",
        "plt.show()"
      ],
      "execution_count": 19,
      "outputs": [
        {
          "output_type": "display_data",
          "data": {
            "image/png": "[encoded data removed]",
            "text/plain": [
              "<Figure size 432x288 with 1 Axes>"
            ]
          },
          "metadata": {
            "needs_background": "light"
          }
        }
      ]
    },
    {
      "cell_type": "code",
      "metadata": {
        "colab": {
          "base_uri": "https://localhost:8080/"
        },
        "id": "7mxxw55Lfxhi",
        "outputId": "56ce57ad-ee20-4427-89ce-36204538e923"
      },
      "source": [
        "train_cols = [\"Open\",\"High\",\"Low\",\"Close\",\"Volume\"]\n",
        "df_train, df_test = train_test_split(hsbc, train_size=0.8, test_size=0.2, shuffle=False)\n",
        "print(\"Training data set size -\", len(df_train))\n",
        "print(\"Test data set size -\", len(df_test))\n"
      ],
      "execution_count": 20,
      "outputs": [
        {
          "output_type": "stream",
          "name": "stdout",
          "text": [
            "Training data set size - 4140\n",
            "Test data set size - 1035\n"
          ]
        }
      ]
    },
    {
      "cell_type": "code",
      "metadata": {
        "colab": {
          "base_uri": "https://localhost:8080/"
        },
        "id": "omptUOuqfz2M",
        "outputId": "72c1544a-65b8-4088-c1f1-f2904df10a51"
      },
      "source": [
        "x = df_train.loc[:,train_cols].values\n",
        "min_max_scaler = MinMaxScaler()\n",
        "x_train = min_max_scaler.fit_transform(x)\n",
        "x_test = min_max_scaler.transform(df_test.loc[:,train_cols])"
      ],
      "execution_count": 21,
      "outputs": [
        {
          "output_type": "stream",
          "name": "stderr",
          "text": [
            "/usr/local/lib/python3.7/dist-packages/sklearn/base.py:439: UserWarning: X has feature names, but MinMaxScaler was fitted without feature names\n",
            "  f\"X has feature names, but {self.__class__.__name__} was fitted without\"\n"
          ]
        }
      ]
    },
    {
      "cell_type": "code",
      "metadata": {
        "id": "cv3X4f56f5rk"
      },
      "source": [
        "#set parameters for model\n",
        "params = {\n",
        "    \"BATCH_SIZE\": 64,\n",
        "    \"EPOCHS\": 50,\n",
        "    \"LR\": 0.00010000,\n",
        "    \"TIME_STEPS\": 60\n",
        "    }\n",
        "\n",
        "#path to input & output\n",
        "PATH_TO_DRIVE = 'YOUR OWN DIRECTORY PATH'\n",
        "INPUT_PATH = PATH_TO_DRIVE + '\\\\inputs'\n",
        "OUTPUT_PATH = PATH_TO_DRIVE  + '\\\\outputs'\n",
        "TIME_STEPS = params['TIME_STEPS']\n",
        "BATCH_SIZE = params['BATCH_SIZE']\n",
        "stime = time.time()\n",
        "\n",
        "\n",
        "# check if directory already exists\n",
        "#if not os.path.exists(OUTPUT_PATH):\n",
        "#    os.makedirs(OUTPUT_PATH)\n",
        "#    print(\"Directory created\", OUTPUT_PATH)\n",
        "\n",
        "#else:\n",
        "#    raise Exception(\"Directory already exists. Don't override.\")\n",
        "\n",
        "\n",
        "def print_time(text, stime):\n",
        "    seconds = (time.time()-stime)\n",
        "    print(text, seconds//60,\"minutes : \", np.round(seconds%60),\"seconds\")"
      ],
      "execution_count": 22,
      "outputs": []
    },
    {
      "cell_type": "code",
      "metadata": {
        "id": "kd1JOyq-f83R"
      },
      "source": [
        "def trim_dataset(mat, batch_size):\n",
        "    \n",
        "    #trims dataset to a size that's divisible by BATCH_SIZE\n",
        "    no_of_rows_drop = mat.shape[0] % batch_size\n",
        "\n",
        "    if no_of_rows_drop > 0:\n",
        "        return mat[:-no_of_rows_drop]\n",
        "    else:\n",
        "        return mat"
      ],
      "execution_count": 23,
      "outputs": []
    },
    {
      "cell_type": "code",
      "metadata": {
        "colab": {
          "base_uri": "https://localhost:8080/"
        },
        "id": "hTlInym6f_CL",
        "outputId": "8c17e5ad-b90d-4078-e3f0-60637708e1c3"
      },
      "source": [
        "def build_timeseries(mat, y_col_index):\n",
        "    \n",
        "    dim_0 = mat.shape[0] - TIME_STEPS\n",
        "    dim_1 = mat.shape[1]\n",
        "\n",
        "    x = np.zeros((dim_0, TIME_STEPS, dim_1))\n",
        "    y = np.zeros((dim_0,))\n",
        "\n",
        "    print(\"Length of inputs\", dim_0)\n",
        "\n",
        "    for i in range(dim_0):\n",
        "        x[i] = mat[i:TIME_STEPS+i]\n",
        "        y[i] = mat[TIME_STEPS+i, y_col_index]\n",
        "\n",
        "    print(\"length of time-series - inputs\", x.shape)\n",
        "    print(\"length of time-series - outputs\", y.shape)\n",
        "\n",
        "    return x, y\n",
        "\n",
        "x_t, y_t = build_timeseries(x_train, 3)\n",
        "x_t = trim_dataset(x_t, BATCH_SIZE)\n",
        "y_t = trim_dataset(y_t, BATCH_SIZE)\n",
        "print(\"Batch trimmed size\", x_t.shape, y_t.shape)"
      ],
      "execution_count": 24,
      "outputs": [
        {
          "output_type": "stream",
          "name": "stdout",
          "text": [
            "Length of inputs 4080\n",
            "length of time-series - inputs (4080, 60, 5)\n",
            "length of time-series - outputs (4080,)\n",
            "Batch trimmed size (4032, 60, 5) (4032,)\n"
          ]
        }
      ]
    },
    {
      "cell_type": "code",
      "metadata": {
        "id": "SzimB_iCgBXo"
      },
      "source": [
        "def custom_loss(y_true, y_pred):\n",
        "    \n",
        "    #extract the \"next day's price\" of tensor\n",
        "    y_true_next = y_true[1:]\n",
        "    y_pred_next = y_pred[1:]\n",
        "    \n",
        "    #extract the \"today's price\" of tensor\n",
        "    y_true_tdy = y_true[:-1]\n",
        "    y_pred_tdy = y_pred[:-1]\n",
        "    \n",
        "    # print('Shape of y_pred_back -', y_pred_tdy.get_shape())\n",
        "    \n",
        "    #substract to get up/down movement of the two tensors\n",
        "    y_true_diff = tf.subtract(y_true_next, y_true_tdy)\n",
        "    y_pred_diff = tf.subtract(y_pred_next, y_pred_tdy)\n",
        "        \n",
        "    #create a standard tensor with zero value for comparison\n",
        "    standard = tf.zeros_like(y_pred_diff)\n",
        "    \n",
        "    #compare with the standard; if true, UP; else DOWN\n",
        "    y_true_move = tf.greater_equal(y_true_diff, standard)\n",
        "    y_pred_move = tf.greater_equal(y_pred_diff, standard)\n",
        "    y_true_move = tf.reshape(y_true_move, [-1])\n",
        "    y_pred_move = tf.reshape(y_pred_move, [-1])\n",
        "    \n",
        "\n",
        "    #find indices where the directions are not the same\n",
        "    condition = tf.not_equal(y_true_move, y_pred_move)\n",
        "    indices = tf.where(condition)\n",
        "\n",
        "    #move one position later\n",
        "    ones = tf.ones_like(indices)\n",
        "    indices = tf.add(indices, ones)\n",
        "    indices = K.cast(indices, dtype='int32')\n",
        "    \n",
        "    \n",
        "    #create a tensor to store directional loss and put it into custom loss output\n",
        "    direction_loss = tf.Variable(tf.ones_like(y_pred), dtype='float32')\n",
        "    updates = K.cast(tf.ones_like(indices), dtype='float32')\n",
        "    alpha = 1000\n",
        "    direction_loss = tf.tensor_scatter_nd_update(direction_loss, indices, alpha*updates)\n",
        "    \n",
        "    custom_loss = K.mean(tf.multiply(K.square(y_true - y_pred), direction_loss), axis=-1)\n",
        "    \n",
        "    return custom_loss\n"
      ],
      "execution_count": 25,
      "outputs": []
    },
    {
      "cell_type": "code",
      "metadata": {
        "id": "6eE58JxwgEV5",
        "colab": {
          "base_uri": "https://localhost:8080/"
        },
        "outputId": "f2e3488b-0544-4b2e-a08b-3fa317f25371"
      },
      "source": [
        "model_lstm = Sequential()\n",
        "model_lstm.add(LSTM(100, batch_input_shape=(BATCH_SIZE, TIME_STEPS, x_t.shape[2]),\n",
        "                    dropout=0.4, recurrent_dropout=0.0,\n",
        "                    stateful=True, return_sequences=True,\n",
        "                    kernel_initializer='random_uniform'))\n",
        "model_lstm.add(LSTM(60, dropout=0.4))\n",
        "model_lstm.add(Dense(100,activation='relu'))\n",
        "model_lstm.add(Dense(1, activation='sigmoid'))\n",
        "model_lstm.compile(loss=custom_loss, optimizer= tf.optimizers.Adam(lr=params[\"LR\"]))"
      ],
      "execution_count": 26,
      "outputs": [
        {
          "output_type": "stream",
          "name": "stderr",
          "text": [
            "/usr/local/lib/python3.7/dist-packages/keras/optimizer_v2/adam.py:105: UserWarning: The `lr` argument is deprecated, use `learning_rate` instead.\n",
            "  super(Adam, self).__init__(name, **kwargs)\n"
          ]
        }
      ]
    },
    {
      "cell_type": "code",
      "metadata": {
        "colab": {
          "base_uri": "https://localhost:8080/"
        },
        "id": "8vbY61WtgGmN",
        "outputId": "f2375dc5-225f-4956-bc44-92ba9b9e87fd"
      },
      "source": [
        "x_temp, y_temp = build_timeseries(x_test, 3)\n",
        "x_val, x_test_t = np.array_split(trim_dataset(x_temp, BATCH_SIZE), 2)\n",
        "y_val, y_test_t = np.array_split(trim_dataset(y_temp, BATCH_SIZE), 2)\n",
        "print(\"Test size\", x_test_t.shape, y_test_t.shape, x_val.shape, y_val.shape)"
      ],
      "execution_count": 27,
      "outputs": [
        {
          "output_type": "stream",
          "name": "stdout",
          "text": [
            "Length of inputs 975\n",
            "length of time-series - inputs (975, 60, 5)\n",
            "length of time-series - outputs (975,)\n",
            "Test size (480, 60, 5) (480,) (480, 60, 5) (480,)\n"
          ]
        }
      ]
    },
    {
      "cell_type": "code",
      "metadata": {
        "id": "5K6yCZrMgIyS"
      },
      "source": [
        "history_lstm = model_lstm.fit(x_t, y_t, epochs=params[\"EPOCHS\"], verbose=0, batch_size=BATCH_SIZE,\n",
        "                      shuffle=False, validation_data=(trim_dataset(x_val, BATCH_SIZE),\n",
        "                      trim_dataset(y_val, BATCH_SIZE)),)"
      ],
      "execution_count": 28,
      "outputs": []
    },
    {
      "cell_type": "code",
      "metadata": {
        "colab": {
          "base_uri": "https://localhost:8080/"
        },
        "id": "X3luWUlVwh5A",
        "outputId": "9fd3c55a-d2a9-4f7b-c4b1-6fd7d46892e4"
      },
      "source": [
        "y_pred_lstm = model_lstm.predict(trim_dataset(x_test_t, BATCH_SIZE), batch_size=BATCH_SIZE)\n",
        "y_pred_lstm = y_pred_lstm.flatten()\n",
        "y_test_t = trim_dataset(y_test_t, BATCH_SIZE)\n",
        "\n",
        "error_lstm = mean_squared_error(y_test_t, y_pred_lstm)\n",
        "print(\"Error is\", error_lstm, y_pred_lstm.shape, y_test_t.shape)\n",
        "print(y_pred_lstm[0:15])\n",
        "print(y_test_t[0:15])\n",
        "\n",
        "y_pred_lstm_org = (y_pred_lstm * min_max_scaler.data_range_[3]) + min_max_scaler.data_min_[3]\n",
        "y_test_t_org = (y_test_t * min_max_scaler.data_range_[3]) + min_max_scaler.data_min_[3]\n",
        "\n",
        "print(y_pred_lstm_org[0:15])\n",
        "print(y_test_t_org[0:15])"
      ],
      "execution_count": 29,
      "outputs": [
        {
          "output_type": "stream",
          "name": "stderr",
          "text": [
            "/usr/local/lib/python3.7/dist-packages/tensorflow/python/data/ops/dataset_ops.py:4527: UserWarning: Even though the `tf.config.experimental_run_functions_eagerly` option is set, this option does not apply to tf.data functions. To force eager execution of tf.data functions, please use `tf.data.experimental.enable_debug_mode()`.\n",
            "  \"Even though the `tf.config.experimental_run_functions_eagerly` \"\n"
          ]
        },
        {
          "output_type": "stream",
          "name": "stdout",
          "text": [
            "Error is 0.0022752718060499275 (448,) (448,)\n",
            "[0.26002222 0.2601156  0.26015177 0.26039517 0.26040503 0.26036587\n",
            " 0.2603268  0.26037967 0.26054317 0.26051104 0.26035726 0.26037908\n",
            " 0.2604652  0.26052272 0.26065105]\n",
            "[0.2587646  0.25667779 0.26544242 0.25292152 0.25250417 0.26168612\n",
            " 0.26627713 0.26502503 0.27128547 0.26544242 0.27045076 0.26335561\n",
            " 0.26794656 0.26836395 0.26836395]\n",
            "[64.150665 64.16185  64.16618  64.19534  64.196526 64.19183  64.18715\n",
            " 64.19348  64.21307  64.20922  64.190796 64.19341  64.203735 64.210625\n",
            " 64.226   ]\n",
            "[64.         63.75       64.80000305 63.29999924 63.25       64.34999847\n",
            " 64.90000153 64.75       65.5        64.80000305 65.40000153 64.55000305\n",
            " 65.09999847 65.15000153 65.15000153]\n"
          ]
        }
      ]
    },
    {
      "cell_type": "code",
      "metadata": {
        "colab": {
          "base_uri": "https://localhost:8080/",
          "height": 421
        },
        "id": "rPvA3p5Ig3QB",
        "outputId": "d60d1cc3-532f-4426-cc01-4ca49530fa4e"
      },
      "source": [
        "from matplotlib import pyplot as plt\n",
        "plt.figure(figsize = (12, 6))\n",
        "plt.plot(y_pred_lstm_org)\n",
        "plt.plot(y_test_t_org)\n",
        "plt.title('LSTM_Custom')\n",
        "plt.ylabel('Price')\n",
        "plt.xlabel('Days')\n",
        "plt.legend(['Prediction', 'Real'], loc='best')\n",
        "\n",
        "y_test_t_final = np.zeros((len(y_test_t_org)-1,))\n",
        "y_pred_lstm_final = np.zeros((len(y_pred_lstm)-1,))\n",
        "\n",
        "for i in range(len(y_pred_lstm_org)-1):\n",
        "    if y_pred_lstm_org[i+1] >= y_pred_lstm_org[i]:\n",
        "        y_pred_lstm_final[i] = 1\n",
        "    else:\n",
        "        y_pred_lstm_final[i] = 0\n",
        "        \n",
        "for i in range(len(y_test_t_org)-1):\n",
        "    if y_test_t_org[i+1] >= y_test_t_org[i]:\n",
        "        y_test_t_final[i] = 1\n",
        "    else:\n",
        "        y_test_t_final[i] = 0\n",
        "\n",
        "error_lstm = mean_absolute_error(y_test_t_final, y_pred_lstm_final)\n",
        "print(\"Error is\", error_lstm)"
      ],
      "execution_count": 30,
      "outputs": [
        {
          "output_type": "stream",
          "name": "stdout",
          "text": [
            "Error is 0.49440715883668906\n"
          ]
        },
        {
          "output_type": "display_data",
          "data": {
            "image/png": "[encoded data removed]",
            "text/plain": [
              "<Figure size 864x432 with 1 Axes>"
            ]
          },
          "metadata": {
            "needs_background": "light"
          }
        }
      ]
    },
    {
      "cell_type": "code",
      "metadata": {
        "id": "q19Paz39g6n1"
      },
      "source": [
        "from keras.models import Sequential\n",
        "from keras.layers import Dense\n",
        "from keras.layers import Flatten\n",
        "from keras.layers import Dropout\n",
        "from keras.layers.convolutional import Conv1D\n",
        "from keras.layers.convolutional import MaxPooling1D\n",
        "model_cnn = Sequential()\n",
        "model_cnn.add(Conv1D(filters=128, kernel_size=3, activation='relu', input_shape=(60,5)))\n",
        "model_cnn.add(Conv1D(filters=64, kernel_size=3, activation='relu'))\n",
        "model_cnn.add(MaxPooling1D(pool_size=2))\n",
        "model_cnn.add(Flatten())\n",
        "model_cnn.add(Dense(100, activation='relu'))\n",
        "model_cnn.add(Dense(1, activation='sigmoid'))\n",
        "model_cnn.compile(loss=custom_loss, optimizer='adam')"
      ],
      "execution_count": 31,
      "outputs": []
    },
    {
      "cell_type": "code",
      "metadata": {
        "colab": {
          "base_uri": "https://localhost:8080/"
        },
        "id": "HiwBieC0wXQd",
        "outputId": "a52f88e4-0185-4124-aa77-8db8b0365be1"
      },
      "source": [
        "history_cnn = model_cnn.fit(x_t, y_t, epochs=params[\"EPOCHS\"], verbose=0, batch_size=BATCH_SIZE,\n",
        "                      shuffle=False, validation_data=(trim_dataset(x_val, BATCH_SIZE),\n",
        "                      trim_dataset(y_val, BATCH_SIZE)))"
      ],
      "execution_count": 33,
      "outputs": [
        {
          "output_type": "stream",
          "name": "stderr",
          "text": [
            "/usr/local/lib/python3.7/dist-packages/tensorflow/python/data/ops/dataset_ops.py:4527: UserWarning: Even though the `tf.config.experimental_run_functions_eagerly` option is set, this option does not apply to tf.data functions. To force eager execution of tf.data functions, please use `tf.data.experimental.enable_debug_mode()`.\n",
            "  \"Even though the `tf.config.experimental_run_functions_eagerly` \"\n"
          ]
        }
      ]
    },
    {
      "cell_type": "code",
      "metadata": {
        "colab": {
          "base_uri": "https://localhost:8080/"
        },
        "id": "p5VXK-Z_2ow2",
        "outputId": "9acfb7b2-99f6-4127-d4dd-747603ced613"
      },
      "source": [
        "y_pred_cnn = model_cnn.predict(trim_dataset(x_test_t, BATCH_SIZE), batch_size=BATCH_SIZE)\n",
        "y_pred_cnn = y_pred_cnn.flatten()\n",
        "y_test_t = trim_dataset(y_test_t, BATCH_SIZE)\n",
        "\n",
        "error_cnn = mean_squared_error(y_test_t, y_pred_cnn)\n",
        "print(\"Error is\", error_cnn, y_pred_cnn.shape, y_test_t.shape)\n",
        "print(y_pred_cnn[0:15])\n",
        "print(y_test_t[0:15])\n",
        "\n",
        "y_pred_cnn_org = (y_pred_cnn * min_max_scaler.data_range_[3]) + min_max_scaler.data_min_[3] \n",
        "y_test_t_org = (y_test_t * min_max_scaler.data_range_[3]) + min_max_scaler.data_min_[3] \n",
        "\n",
        "print(y_pred_cnn_org[0:15])\n",
        "print(y_test_t_org[0:15])"
      ],
      "execution_count": 34,
      "outputs": [
        {
          "output_type": "stream",
          "name": "stdout",
          "text": [
            "Error is 0.0013071455592651372 (448,) (448,)\n",
            "[0.27167445 0.27269587 0.27378505 0.27436015 0.2739919  0.27295458\n",
            " 0.27127668 0.2710466  0.27056128 0.27116773 0.26943555 0.26864356\n",
            " 0.26777315 0.26797277 0.26867795]\n",
            "[0.2587646  0.25667779 0.26544242 0.25292152 0.25250417 0.26168612\n",
            " 0.26627713 0.26502503 0.27128547 0.26544242 0.27045076 0.26335561\n",
            " 0.26794656 0.26836395 0.26836395]\n",
            "[65.5466   65.66896  65.79945  65.86835  65.824234 65.69996  65.49895\n",
            " 65.47139  65.41324  65.48589  65.27838  65.1835   65.07922  65.103134\n",
            " 65.18762 ]\n",
            "[64.         63.75       64.80000305 63.29999924 63.25       64.34999847\n",
            " 64.90000153 64.75       65.5        64.80000305 65.40000153 64.55000305\n",
            " 65.09999847 65.15000153 65.15000153]\n"
          ]
        },
        {
          "output_type": "stream",
          "name": "stderr",
          "text": [
            "/usr/local/lib/python3.7/dist-packages/tensorflow/python/data/ops/dataset_ops.py:4527: UserWarning: Even though the `tf.config.experimental_run_functions_eagerly` option is set, this option does not apply to tf.data functions. To force eager execution of tf.data functions, please use `tf.data.experimental.enable_debug_mode()`.\n",
            "  \"Even though the `tf.config.experimental_run_functions_eagerly` \"\n"
          ]
        }
      ]
    },
    {
      "cell_type": "code",
      "metadata": {
        "colab": {
          "base_uri": "https://localhost:8080/",
          "height": 454
        },
        "id": "qXM99hFMwrHG",
        "outputId": "cd2aff44-2585-4ae3-d2e3-dfa9fa689a01"
      },
      "source": [
        "from matplotlib import pyplot as plt\n",
        "plt.figure(figsize = (12, 6))\n",
        "plt.plot(y_pred_cnn_org)\n",
        "plt.plot(y_test_t_org)\n",
        "plt.title('CNN_Custom')\n",
        "plt.ylabel('Price')\n",
        "plt.xlabel('Days')\n",
        "plt.legend(['Prediction', 'Real'], loc='best')\n",
        "\n",
        "y_test_t_final = np.zeros((len(y_test_t_org)-1,))\n",
        "y_pred_cnn_final = np.zeros((len(y_pred_cnn)-1,))\n",
        "\n",
        "#convert prediction into binary output (up or down movement)\n",
        "for i in range(len(y_pred_cnn_org)-1):\n",
        "    if y_pred_cnn_org[i+1] >= y_pred_cnn_org[i]:\n",
        "        y_pred_cnn_final[i] = 1\n",
        "    else:\n",
        "        y_pred_cnn_final[i] = 0\n",
        "        \n",
        "#convert prediction into binary output (up or down movement)\n",
        "for i in range(len(y_test_t_org)-1):\n",
        "    if y_test_t_org[i+1] >= y_test_t_org[i]:\n",
        "        y_test_t_final[i] = 1\n",
        "    else:\n",
        "        y_test_t_final[i] = 0\n",
        "\n",
        "\n",
        "error_cnn = mean_absolute_error(y_test_t_final, y_pred_cnn_final)\n",
        "print(\"Error is\", error_cnn, y_pred_cnn_final.shape, y_test_t_final.shape)\n",
        "print(y_pred_cnn_final[0:15])\n",
        "print(y_test_t_final[0:15])"
      ],
      "execution_count": 35,
      "outputs": [
        {
          "output_type": "stream",
          "name": "stdout",
          "text": [
            "Error is 0.48769574944071586 (447,) (447,)\n",
            "[1. 1. 1. 0. 0. 0. 0. 0. 1. 0. 0. 0. 1. 1. 1.]\n",
            "[0. 1. 0. 0. 1. 1. 0. 1. 0. 1. 0. 1. 1. 1. 1.]\n"
          ]
        },
        {
          "output_type": "display_data",
          "data": {
            "image/png": "[encoded data removed]",
            "text/plain": [
              "<Figure size 864x432 with 1 Axes>"
            ]
          },
          "metadata": {
            "needs_background": "light"
          }
        }
      ]
    }
  ]
}