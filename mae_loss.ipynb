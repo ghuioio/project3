{
  "nbformat": 4,
  "nbformat_minor": 0,
  "metadata": {
    "colab": {
      "name": "mae_loss.ipynb",
      "provenance": [],
      "collapsed_sections": [],
      "authorship_tag": "ABX9TyParLu0k58HdTHqVVW3uqwI",
      "include_colab_link": true
    },
    "kernelspec": {
      "name": "python3",
      "display_name": "Python 3"
    },
    "language_info": {
      "name": "python"
    }
  },
  "cells": [
    {
      "cell_type": "markdown",
      "metadata": {
        "id": "view-in-github",
        "colab_type": "text"
      },
      "source": [
        "<a href=\"https://colab.research.google.com/github/ghuioio/project3/blob/main/mae_loss.ipynb\" target=\"_parent\"><img src=\"https://colab.research.google.com/assets/colab-badge.svg\" alt=\"Open In Colab\"/></a>"
      ]
    },
    {
      "cell_type": "code",
      "metadata": {
        "colab": {
          "base_uri": "https://localhost:8080/"
        },
        "id": "-36p6hV6nCwV",
        "outputId": "8b7423b5-42f7-4b82-da1a-31ed30262d50"
      },
      "source": [
        "pip install yfinance"
      ],
      "execution_count": 117,
      "outputs": [
        {
          "output_type": "stream",
          "name": "stdout",
          "text": [
            "Requirement already satisfied: yfinance in /usr/local/lib/python3.7/dist-packages (0.1.67)\n",
            "Requirement already satisfied: requests>=2.20 in /usr/local/lib/python3.7/dist-packages (from yfinance) (2.23.0)\n",
            "Requirement already satisfied: multitasking>=0.0.7 in /usr/local/lib/python3.7/dist-packages (from yfinance) (0.0.10)\n",
            "Requirement already satisfied: numpy>=1.15 in /usr/local/lib/python3.7/dist-packages (from yfinance) (1.19.5)\n",
            "Requirement already satisfied: pandas>=0.24 in /usr/local/lib/python3.7/dist-packages (from yfinance) (1.1.5)\n",
            "Requirement already satisfied: lxml>=4.5.1 in /usr/local/lib/python3.7/dist-packages (from yfinance) (4.6.4)\n",
            "Requirement already satisfied: python-dateutil>=2.7.3 in /usr/local/lib/python3.7/dist-packages (from pandas>=0.24->yfinance) (2.8.2)\n",
            "Requirement already satisfied: pytz>=2017.2 in /usr/local/lib/python3.7/dist-packages (from pandas>=0.24->yfinance) (2018.9)\n",
            "Requirement already satisfied: six>=1.5 in /usr/local/lib/python3.7/dist-packages (from python-dateutil>=2.7.3->pandas>=0.24->yfinance) (1.15.0)\n",
            "Requirement already satisfied: urllib3!=1.25.0,!=1.25.1,<1.26,>=1.21.1 in /usr/local/lib/python3.7/dist-packages (from requests>=2.20->yfinance) (1.24.3)\n",
            "Requirement already satisfied: chardet<4,>=3.0.2 in /usr/local/lib/python3.7/dist-packages (from requests>=2.20->yfinance) (3.0.4)\n",
            "Requirement already satisfied: idna<3,>=2.5 in /usr/local/lib/python3.7/dist-packages (from requests>=2.20->yfinance) (2.10)\n",
            "Requirement already satisfied: certifi>=2017.4.17 in /usr/local/lib/python3.7/dist-packages (from requests>=2.20->yfinance) (2021.10.8)\n"
          ]
        }
      ]
    },
    {
      "cell_type": "code",
      "metadata": {
        "id": "XnkZ0AAFnG25"
      },
      "source": [
        "import numpy as np\n",
        "np.random.seed(1) # for reproducibility\n",
        "import keras\n",
        "import keras.backend as K\n",
        "import tensorflow as tf\n",
        "tf.config.run_functions_eagerly(True)\n",
        "import yfinance as yf\n",
        "import matplotlib.pyplot as plt\n",
        "import time\n",
        "import os\n",
        "import pickle\n",
        "import numpy as np\n",
        "from keras.models import Sequential, load_model\n",
        "from keras.layers import LSTM, Dense\n",
        "from keras.callbacks import ModelCheckpoint\n",
        "from keras import optimizers\n",
        "from sklearn.preprocessing import MinMaxScaler\n",
        "from sklearn.model_selection import train_test_split\n",
        "from sklearn.metrics import mean_squared_error, mean_absolute_error"
      ],
      "execution_count": 118,
      "outputs": []
    },
    {
      "cell_type": "code",
      "metadata": {
        "colab": {
          "base_uri": "https://localhost:8080/"
        },
        "id": "0jM1BM4snH52",
        "outputId": "6a51b181-42b6-409b-ae37-f0cef8e8ef07"
      },
      "source": [
        "'''Step 1 - Download stock price data from yahoo finance'''\n",
        "hsbc = yf.download('0005.HK', '2000-01-01', '2021-01-01')\n",
        "hsbc = hsbc.drop(['Adj Close'], axis=1)\n",
        "hsbc = hsbc.drop(hsbc[hsbc.Volume==0].index)\n",
        "print(hsbc.head())"
      ],
      "execution_count": 119,
      "outputs": [
        {
          "output_type": "stream",
          "name": "stdout",
          "text": [
            "\r[*********************100%***********************]  1 of 1 completed\n",
            "             Open   High     Low  Close    Volume\n",
            "Date                                             \n",
            "2000-01-03  111.0  111.5  107.50  108.0   3908164\n",
            "2000-01-04  106.0  106.5  105.00  106.0   6895378\n",
            "2000-01-05  101.0  102.0   99.50  100.5  14657098\n",
            "2000-01-06  101.0  102.0   96.25   97.0  10632084\n",
            "2000-01-07   98.5  101.0   97.50  100.5   8368286\n"
          ]
        }
      ]
    },
    {
      "cell_type": "code",
      "metadata": {
        "colab": {
          "base_uri": "https://localhost:8080/",
          "height": 279
        },
        "id": "O6N0ThhDnKy7",
        "outputId": "32733cee-403a-4d50-b38c-ba4707fd1a9a"
      },
      "source": [
        "'''Step 2 - Plot stock price & volume'''\n",
        "fig, ax1 = plt.subplots()\n",
        "ax1.set_title('HSBC stock price', fontsize=10)\n",
        "ax1.plot(hsbc['Close'])\n",
        "plt.show()"
      ],
      "execution_count": 120,
      "outputs": [
        {
          "output_type": "display_data",
          "data": {
            "image/png": "[encoded data removed]",
            "text/plain": [
              "<Figure size 432x288 with 1 Axes>"
            ]
          },
          "metadata": {
            "needs_background": "light"
          }
        }
      ]
    },
    {
      "cell_type": "code",
      "metadata": {
        "colab": {
          "base_uri": "https://localhost:8080/"
        },
        "id": "Ois9CTvynN2R",
        "outputId": "01c728b7-5ee2-4da0-a1b8-7e772e6cb4db"
      },
      "source": [
        "'''Step 3 - Split data into training set and test set'''\n",
        "train_cols = [\"Open\",\"High\",\"Low\",\"Close\",\"Volume\"]\n",
        "df_train, df_test = train_test_split(hsbc, train_size=0.8, test_size=0.2, shuffle=False)\n",
        "print(\"Training data set size -\", len(df_train))\n",
        "print(\"Test data set size -\", len(df_test))"
      ],
      "execution_count": 121,
      "outputs": [
        {
          "output_type": "stream",
          "name": "stdout",
          "text": [
            "Training data set size - 4134\n",
            "Test data set size - 1034\n"
          ]
        }
      ]
    },
    {
      "cell_type": "code",
      "metadata": {
        "colab": {
          "base_uri": "https://localhost:8080/"
        },
        "id": "lrcLw7ljnP7r",
        "outputId": "3a1f63b1-0af9-4764-fca3-b754d0979ef2"
      },
      "source": [
        "'''Step 4 - Scale feature MinMax  - Train the scaler with training data and smooth data'''\n",
        "x = df_train.loc[:,train_cols].values\n",
        "min_max_scaler = MinMaxScaler()\n",
        "x_train = min_max_scaler.fit_transform(x)\n",
        "x_test = min_max_scaler.transform(df_test.loc[:,train_cols])"
      ],
      "execution_count": 122,
      "outputs": [
        {
          "output_type": "stream",
          "name": "stderr",
          "text": [
            "/usr/local/lib/python3.7/dist-packages/sklearn/base.py:439: UserWarning: X has feature names, but MinMaxScaler was fitted without feature names\n",
            "  f\"X has feature names, but {self.__class__.__name__} was fitted without\"\n"
          ]
        }
      ]
    },
    {
      "cell_type": "code",
      "metadata": {
        "id": "teWykRkUnSuT"
      },
      "source": [
        "'''Step 5 - Set environment parameters'''\n",
        "os.environ['TF_CPP_MIN_LOG_LEVEL'] = '2'"
      ],
      "execution_count": 123,
      "outputs": []
    },
    {
      "cell_type": "code",
      "metadata": {
        "id": "DW5TOTgDnWi2"
      },
      "source": [
        "'''Step 6 - Set model parameters'''\n",
        "#set parameters for model\n",
        "params = {\n",
        "    \"BATCH_SIZE\": 64,\n",
        "    \"EPOCHS\": 50,\n",
        "    \"LR\": 0.00010000,\n",
        "    \"TIME_STEPS\": 60\n",
        "    }\n",
        "TIME_STEPS = params['TIME_STEPS']\n",
        "BATCH_SIZE = params['BATCH_SIZE']\n",
        "stime = time.time()\n",
        "\n",
        "def print_time(text, stime):\n",
        "    seconds = (time.time()-stime)\n",
        "    print(text, seconds//60,\"minutes : \", np.round(seconds%60),\"seconds\")"
      ],
      "execution_count": 124,
      "outputs": []
    },
    {
      "cell_type": "code",
      "metadata": {
        "id": "1QGi3fprnhrK"
      },
      "source": [
        "'''Step 7 - Filtering datasets for training model'''\n",
        "\n",
        "def trim_dataset(mat, batch_size):\n",
        "    \n",
        "    #trims dataset to a size that's divisible by BATCH_SIZE\n",
        "    no_of_rows_drop = mat.shape[0] % batch_size\n",
        "\n",
        "    if no_of_rows_drop > 0:\n",
        "        return mat[:-no_of_rows_drop]\n",
        "    else:\n",
        "        return mat"
      ],
      "execution_count": 125,
      "outputs": []
    },
    {
      "cell_type": "code",
      "metadata": {
        "colab": {
          "base_uri": "https://localhost:8080/"
        },
        "id": "uamiHUbgnbZh",
        "outputId": "262d74b6-6c9e-462d-dd5a-90fb398fac27"
      },
      "source": [
        "'''Step 8 - Transform data into time series format'''\n",
        "\n",
        "def build_timeseries(mat, y_col_index):\n",
        "    \n",
        "    dim_0 = mat.shape[0] - TIME_STEPS\n",
        "    dim_1 = mat.shape[1]\n",
        "\n",
        "    x = np.zeros((dim_0, TIME_STEPS, dim_1))\n",
        "    y = np.zeros((dim_0,))\n",
        "\n",
        "    print(\"Length of inputs\", dim_0)\n",
        "\n",
        "    for i in range(dim_0):\n",
        "        x[i] = mat[i:TIME_STEPS+i]\n",
        "        y[i] = mat[TIME_STEPS+i, y_col_index]\n",
        "\n",
        "    print(\"length of time-series - inputs\", x.shape)\n",
        "    print(\"length of time-series - outputs\", y.shape)\n",
        "\n",
        "    return x, y\n",
        "\n",
        "x_t, y_t = build_timeseries(x_train, 3)\n",
        "x_t = trim_dataset(x_t, BATCH_SIZE)\n",
        "y_t = trim_dataset(y_t, BATCH_SIZE)\n",
        "print(\"Batch trimmed size\", x_t.shape, y_t.shape)"
      ],
      "execution_count": 126,
      "outputs": [
        {
          "output_type": "stream",
          "name": "stdout",
          "text": [
            "Length of inputs 4074\n",
            "length of time-series - inputs (4074, 60, 5)\n",
            "length of time-series - outputs (4074,)\n",
            "Batch trimmed size (4032, 60, 5) (4032,)\n"
          ]
        }
      ]
    },
    {
      "cell_type": "code",
      "metadata": {
        "colab": {
          "base_uri": "https://localhost:8080/"
        },
        "id": "ErlgL5-3nlKl",
        "outputId": "2c480d9a-5fd6-414a-8899-a2d6897ee068"
      },
      "source": [
        "'''Step 10 - Build LSTM model'''\n",
        "\n",
        "model_lstm = Sequential()\n",
        "model_lstm.add(LSTM(100, batch_input_shape=(BATCH_SIZE, TIME_STEPS, x_t.shape[2]),\n",
        "                    dropout=0.4, recurrent_dropout=0.0,\n",
        "                    stateful=True, return_sequences=True,\n",
        "                    kernel_initializer='random_uniform'))\n",
        "model_lstm.add(LSTM(60, dropout=0.4))\n",
        "model_lstm.add(Dense(100,activation='relu'))\n",
        "model_lstm.add(Dense(1, activation='sigmoid'))\n",
        "model_lstm.compile(loss='mae', optimizer= tf.optimizers.Adam(lr=params[\"LR\"]))"
      ],
      "execution_count": 127,
      "outputs": [
        {
          "output_type": "stream",
          "name": "stderr",
          "text": [
            "/usr/local/lib/python3.7/dist-packages/keras/optimizer_v2/adam.py:105: UserWarning: The `lr` argument is deprecated, use `learning_rate` instead.\n",
            "  super(Adam, self).__init__(name, **kwargs)\n"
          ]
        }
      ]
    },
    {
      "cell_type": "code",
      "metadata": {
        "colab": {
          "base_uri": "https://localhost:8080/"
        },
        "id": "b_-cTwyVn7i6",
        "outputId": "1be4486b-47f4-4743-c9f6-c99a8ae7e798"
      },
      "source": [
        "'''Step 11 - Split test data into validation set and test set'''\n",
        "x_temp, y_temp = build_timeseries(x_test, 3)\n",
        "x_val, x_test_t = np.array_split(trim_dataset(x_temp, BATCH_SIZE), 2)\n",
        "y_val, y_test_t = np.array_split(trim_dataset(y_temp, BATCH_SIZE), 2)\n",
        "print(\"Test size\", x_test_t.shape, y_test_t.shape, x_val.shape, y_val.shape)"
      ],
      "execution_count": 128,
      "outputs": [
        {
          "output_type": "stream",
          "name": "stdout",
          "text": [
            "Length of inputs 974\n",
            "length of time-series - inputs (974, 60, 5)\n",
            "length of time-series - outputs (974,)\n",
            "Test size (480, 60, 5) (480,) (480, 60, 5) (480,)\n"
          ]
        }
      ]
    },
    {
      "cell_type": "code",
      "metadata": {
        "colab": {
          "base_uri": "https://localhost:8080/"
        },
        "id": "7txf95NCn-pL",
        "outputId": "03785921-9a8f-456d-dca5-6417db32a721"
      },
      "source": [
        "'''Step 12 - Train the model '''\n",
        "history_lstm = model_lstm.fit(x_t, y_t, epochs=params[\"EPOCHS\"], verbose=1, batch_size=BATCH_SIZE,\n",
        "                      shuffle=False, validation_data=(trim_dataset(x_val, BATCH_SIZE),\n",
        "                      trim_dataset(y_val, BATCH_SIZE)),)"
      ],
      "execution_count": 129,
      "outputs": [
        {
          "output_type": "stream",
          "name": "stderr",
          "text": [
            "/usr/local/lib/python3.7/dist-packages/tensorflow/python/data/ops/dataset_ops.py:4527: UserWarning: Even though the `tf.config.experimental_run_functions_eagerly` option is set, this option does not apply to tf.data functions. To force eager execution of tf.data functions, please use `tf.data.experimental.enable_debug_mode()`.\n",
            "  \"Even though the `tf.config.experimental_run_functions_eagerly` \"\n"
          ]
        },
        {
          "output_type": "stream",
          "name": "stdout",
          "text": [
            "Epoch 1/50\n",
            "63/63 [==============================] - 20s 323ms/step - loss: 0.1905 - val_loss: 0.1711\n",
            "Epoch 2/50\n",
            "63/63 [==============================] - 20s 322ms/step - loss: 0.1862 - val_loss: 0.1700\n",
            "Epoch 3/50\n",
            "63/63 [==============================] - 20s 326ms/step - loss: 0.1830 - val_loss: 0.1641\n",
            "Epoch 4/50\n",
            "63/63 [==============================] - 20s 324ms/step - loss: 0.1804 - val_loss: 0.1555\n",
            "Epoch 5/50\n",
            "63/63 [==============================] - 20s 323ms/step - loss: 0.1741 - val_loss: 0.1290\n",
            "Epoch 6/50\n",
            "63/63 [==============================] - 20s 324ms/step - loss: 0.1618 - val_loss: 0.0847\n",
            "Epoch 7/50\n",
            "63/63 [==============================] - 20s 323ms/step - loss: 0.1229 - val_loss: 0.0347\n",
            "Epoch 8/50\n",
            "63/63 [==============================] - 21s 331ms/step - loss: 0.1030 - val_loss: 0.0343\n",
            "Epoch 9/50\n",
            "63/63 [==============================] - 20s 324ms/step - loss: 0.0674 - val_loss: 0.0363\n",
            "Epoch 10/50\n",
            "63/63 [==============================] - 21s 327ms/step - loss: 0.0487 - val_loss: 0.0286\n",
            "Epoch 11/50\n",
            "63/63 [==============================] - 21s 335ms/step - loss: 0.0474 - val_loss: 0.0286\n",
            "Epoch 12/50\n",
            "63/63 [==============================] - 21s 331ms/step - loss: 0.0469 - val_loss: 0.0290\n",
            "Epoch 13/50\n",
            "63/63 [==============================] - 21s 327ms/step - loss: 0.0456 - val_loss: 0.0289\n",
            "Epoch 14/50\n",
            "63/63 [==============================] - 21s 329ms/step - loss: 0.0448 - val_loss: 0.0306\n",
            "Epoch 15/50\n",
            "63/63 [==============================] - 20s 322ms/step - loss: 0.0440 - val_loss: 0.0330\n",
            "Epoch 16/50\n",
            "63/63 [==============================] - 21s 331ms/step - loss: 0.0456 - val_loss: 0.0318\n",
            "Epoch 17/50\n",
            "63/63 [==============================] - 21s 332ms/step - loss: 0.0444 - val_loss: 0.0310\n",
            "Epoch 18/50\n",
            "63/63 [==============================] - 20s 324ms/step - loss: 0.0437 - val_loss: 0.0342\n",
            "Epoch 19/50\n",
            "63/63 [==============================] - 21s 330ms/step - loss: 0.0432 - val_loss: 0.0355\n",
            "Epoch 20/50\n",
            "63/63 [==============================] - 20s 324ms/step - loss: 0.0432 - val_loss: 0.0307\n",
            "Epoch 21/50\n",
            "63/63 [==============================] - 21s 331ms/step - loss: 0.0413 - val_loss: 0.0318\n",
            "Epoch 22/50\n",
            "63/63 [==============================] - 21s 331ms/step - loss: 0.0432 - val_loss: 0.0312\n",
            "Epoch 23/50\n",
            "63/63 [==============================] - 20s 323ms/step - loss: 0.0427 - val_loss: 0.0351\n",
            "Epoch 24/50\n",
            "63/63 [==============================] - 21s 329ms/step - loss: 0.0427 - val_loss: 0.0307\n",
            "Epoch 25/50\n",
            "63/63 [==============================] - 21s 330ms/step - loss: 0.0419 - val_loss: 0.0329\n",
            "Epoch 26/50\n",
            "63/63 [==============================] - 20s 325ms/step - loss: 0.0419 - val_loss: 0.0299\n",
            "Epoch 27/50\n",
            "63/63 [==============================] - 20s 324ms/step - loss: 0.0416 - val_loss: 0.0335\n",
            "Epoch 28/50\n",
            "63/63 [==============================] - 21s 332ms/step - loss: 0.0422 - val_loss: 0.0313\n",
            "Epoch 29/50\n",
            "63/63 [==============================] - 21s 328ms/step - loss: 0.0423 - val_loss: 0.0313\n",
            "Epoch 30/50\n",
            "63/63 [==============================] - 21s 331ms/step - loss: 0.0408 - val_loss: 0.0350\n",
            "Epoch 31/50\n",
            "63/63 [==============================] - 20s 323ms/step - loss: 0.0419 - val_loss: 0.0344\n",
            "Epoch 32/50\n",
            "63/63 [==============================] - 20s 324ms/step - loss: 0.0418 - val_loss: 0.0324\n",
            "Epoch 33/50\n",
            "63/63 [==============================] - 20s 324ms/step - loss: 0.0418 - val_loss: 0.0321\n",
            "Epoch 34/50\n",
            "63/63 [==============================] - 21s 332ms/step - loss: 0.0416 - val_loss: 0.0353\n",
            "Epoch 35/50\n",
            "63/63 [==============================] - 20s 323ms/step - loss: 0.0418 - val_loss: 0.0319\n",
            "Epoch 36/50\n",
            "63/63 [==============================] - 21s 333ms/step - loss: 0.0419 - val_loss: 0.0305\n",
            "Epoch 37/50\n",
            "63/63 [==============================] - 20s 325ms/step - loss: 0.0412 - val_loss: 0.0318\n",
            "Epoch 38/50\n",
            "63/63 [==============================] - 20s 322ms/step - loss: 0.0408 - val_loss: 0.0337\n",
            "Epoch 39/50\n",
            "63/63 [==============================] - 21s 331ms/step - loss: 0.0413 - val_loss: 0.0348\n",
            "Epoch 40/50\n",
            "63/63 [==============================] - 21s 330ms/step - loss: 0.0403 - val_loss: 0.0305\n",
            "Epoch 41/50\n",
            "63/63 [==============================] - 20s 321ms/step - loss: 0.0409 - val_loss: 0.0320\n",
            "Epoch 42/50\n",
            "63/63 [==============================] - 20s 322ms/step - loss: 0.0410 - val_loss: 0.0321\n",
            "Epoch 43/50\n",
            "63/63 [==============================] - 20s 323ms/step - loss: 0.0403 - val_loss: 0.0349\n",
            "Epoch 44/50\n",
            "63/63 [==============================] - 21s 330ms/step - loss: 0.0407 - val_loss: 0.0311\n",
            "Epoch 45/50\n",
            "63/63 [==============================] - 20s 323ms/step - loss: 0.0405 - val_loss: 0.0321\n",
            "Epoch 46/50\n",
            "63/63 [==============================] - 21s 330ms/step - loss: 0.0402 - val_loss: 0.0308\n",
            "Epoch 47/50\n",
            "63/63 [==============================] - 21s 335ms/step - loss: 0.0404 - val_loss: 0.0323\n",
            "Epoch 48/50\n",
            "63/63 [==============================] - 20s 322ms/step - loss: 0.0407 - val_loss: 0.0317\n",
            "Epoch 49/50\n",
            "63/63 [==============================] - 21s 330ms/step - loss: 0.0395 - val_loss: 0.0305\n",
            "Epoch 50/50\n",
            "63/63 [==============================] - 21s 329ms/step - loss: 0.0402 - val_loss: 0.0324\n"
          ]
        }
      ]
    },
    {
      "cell_type": "code",
      "metadata": {
        "colab": {
          "base_uri": "https://localhost:8080/"
        },
        "id": "ee8V9ww9oQcO",
        "outputId": "f0f9bde6-52c9-475f-fe14-51f87918b5ca"
      },
      "source": [
        "''' Step 13 - predict the model on test data'''\n",
        "y_pred_lstm = model_lstm.predict(trim_dataset(x_test_t, BATCH_SIZE), batch_size=BATCH_SIZE)\n",
        "y_pred_lstm = y_pred_lstm.flatten()\n",
        "y_test_t = trim_dataset(y_test_t, BATCH_SIZE)\n",
        "\n",
        "error_lstm = mean_squared_error(y_test_t, y_pred_lstm)\n",
        "print(\"Error is\", error_lstm, y_pred_lstm.shape, y_test_t.shape)\n",
        "print(y_pred_lstm[0:15])\n",
        "print(y_test_t[0:15])\n",
        "\n",
        "y_pred_lstm_org = (y_pred_lstm * min_max_scaler.data_range_[3]) + min_max_scaler.data_min_[3]\n",
        "y_test_t_org = (y_test_t * min_max_scaler.data_range_[3]) + min_max_scaler.data_min_[3]\n",
        "\n",
        "print(y_pred_lstm_org[0:15])\n",
        "print(y_test_t_org[0:15])"
      ],
      "execution_count": 130,
      "outputs": [
        {
          "output_type": "stream",
          "name": "stderr",
          "text": [
            "/usr/local/lib/python3.7/dist-packages/tensorflow/python/data/ops/dataset_ops.py:4527: UserWarning: Even though the `tf.config.experimental_run_functions_eagerly` option is set, this option does not apply to tf.data functions. To force eager execution of tf.data functions, please use `tf.data.experimental.enable_debug_mode()`.\n",
            "  \"Even though the `tf.config.experimental_run_functions_eagerly` \"\n"
          ]
        },
        {
          "output_type": "stream",
          "name": "stdout",
          "text": [
            "Error is 0.0019909997356171846 (448,) (448,)\n",
            "[0.25431702 0.2544206  0.25470883 0.25474387 0.2547317  0.25471252\n",
            " 0.25477847 0.2549724  0.25497943 0.25486425 0.25492722 0.255032\n",
            " 0.25511035 0.25528282 0.25554153]\n",
            "[0.25667779 0.26544242 0.25292152 0.25250417 0.26168612 0.26627713\n",
            " 0.26502503 0.27128547 0.26544242 0.27045076 0.26335561 0.26794656\n",
            " 0.26836395 0.26836395 0.27003337]\n",
            "[63.46718  63.47959  63.51412  63.51832  63.51686  63.51456  63.52246\n",
            " 63.545692 63.54654  63.532738 63.540283 63.552834 63.56222  63.582882\n",
            " 63.613876]\n",
            "[63.75       64.80000305 63.29999924 63.25       64.34999847 64.90000153\n",
            " 64.75       65.5        64.80000305 65.40000153 64.55000305 65.09999847\n",
            " 65.15000153 65.15000153 65.34999847]\n"
          ]
        }
      ]
    },
    {
      "cell_type": "code",
      "metadata": {
        "colab": {
          "base_uri": "https://localhost:8080/",
          "height": 421
        },
        "id": "GyZCg9mzoZX7",
        "outputId": "f0bb8d56-d1af-471d-c66c-af02d0579877"
      },
      "source": [
        "'''Step 16 - Plot real stock price & prediction'''\n",
        "from matplotlib import pyplot as plt\n",
        "plt.figure(figsize = (12, 6))\n",
        "plt.plot(y_pred_lstm_org)\n",
        "plt.plot(y_test_t_org)\n",
        "plt.title('LSTM_MAE')\n",
        "plt.ylabel('Price')\n",
        "plt.xlabel('Days')\n",
        "plt.legend(['Prediction', 'Real'], loc='best')\n",
        "\n",
        "y_test_t_final = np.zeros((len(y_test_t_org)-1,))\n",
        "y_pred_lstm_final = np.zeros((len(y_pred_lstm)-1,))\n",
        "\n",
        "for i in range(len(y_pred_lstm_org)-1):\n",
        "    if y_pred_lstm_org[i+1] >= y_pred_lstm_org[i]:\n",
        "        y_pred_lstm_final[i] = 1\n",
        "    else:\n",
        "        y_pred_lstm_final[i] = 0\n",
        "        \n",
        "for i in range(len(y_test_t_org)-1):\n",
        "    if y_test_t_org[i+1] >= y_test_t_org[i]:\n",
        "        y_test_t_final[i] = 1\n",
        "    else:\n",
        "        y_test_t_final[i] = 0\n",
        "\n",
        "error_lstm = mean_absolute_error(y_test_t_final, y_pred_lstm_final)\n",
        "print(\"Error is\", error_lstm)"
      ],
      "execution_count": 131,
      "outputs": [
        {
          "output_type": "stream",
          "name": "stdout",
          "text": [
            "Error is 0.5011185682326622\n"
          ]
        },
        {
          "output_type": "display_data",
          "data": {
            "image/png": "[encoded data removed]",
            "text/plain": [
              "<Figure size 864x432 with 1 Axes>"
            ]
          },
          "metadata": {
            "needs_background": "light"
          }
        }
      ]
    },
    {
      "cell_type": "code",
      "metadata": {
        "id": "8936zT_GyI-r"
      },
      "source": [
        "from keras.models import Sequential\n",
        "from keras.layers import Dense\n",
        "from keras.layers import Flatten\n",
        "from keras.layers import Dropout\n",
        "from keras.layers.convolutional import Conv1D\n",
        "from keras.layers.convolutional import MaxPooling1D\n",
        "model_cnn = Sequential()\n",
        "model_cnn.add(Conv1D(filters=128, kernel_size=3, activation='relu', input_shape=(60,5)))\n",
        "model_cnn.add(Conv1D(filters=64, kernel_size=3, activation='relu'))\n",
        "model_cnn.add(MaxPooling1D(pool_size=2))\n",
        "model_cnn.add(Flatten())\n",
        "model_cnn.add(Dense(100, activation='relu'))\n",
        "model_cnn.add(Dense(1, activation='sigmoid'))\n",
        "model_cnn.compile(loss='mae', optimizer='adam')"
      ],
      "execution_count": 132,
      "outputs": []
    },
    {
      "cell_type": "code",
      "metadata": {
        "colab": {
          "base_uri": "https://localhost:8080/"
        },
        "id": "Lsr4pzKnyTSj",
        "outputId": "cae253d1-5c4a-4b8c-8853-bea8d77a88c1"
      },
      "source": [
        "history_cnn = model_cnn.fit(x_t, y_t, epochs=params[\"EPOCHS\"], verbose=1, batch_size=BATCH_SIZE,\n",
        "                      shuffle=False, validation_data=(trim_dataset(x_val, BATCH_SIZE),\n",
        "                      trim_dataset(y_val, BATCH_SIZE)),)"
      ],
      "execution_count": 133,
      "outputs": [
        {
          "output_type": "stream",
          "name": "stdout",
          "text": [
            "Epoch 1/50\n",
            " 3/63 [>.............................] - ETA: 2s - loss: 0.1921"
          ]
        },
        {
          "output_type": "stream",
          "name": "stderr",
          "text": [
            "/usr/local/lib/python3.7/dist-packages/tensorflow/python/data/ops/dataset_ops.py:4527: UserWarning: Even though the `tf.config.experimental_run_functions_eagerly` option is set, this option does not apply to tf.data functions. To force eager execution of tf.data functions, please use `tf.data.experimental.enable_debug_mode()`.\n",
            "  \"Even though the `tf.config.experimental_run_functions_eagerly` \"\n"
          ]
        },
        {
          "output_type": "stream",
          "name": "stdout",
          "text": [
            "63/63 [==============================] - 3s 45ms/step - loss: 0.1926 - val_loss: 0.1344\n",
            "Epoch 2/50\n",
            "63/63 [==============================] - 3s 43ms/step - loss: 0.2542 - val_loss: 0.0618\n",
            "Epoch 3/50\n",
            "63/63 [==============================] - 3s 43ms/step - loss: 0.1826 - val_loss: 0.0496\n",
            "Epoch 4/50\n",
            "63/63 [==============================] - 3s 41ms/step - loss: 0.1851 - val_loss: 0.0778\n",
            "Epoch 5/50\n",
            "63/63 [==============================] - 3s 41ms/step - loss: 0.1928 - val_loss: 0.2207\n",
            "Epoch 6/50\n",
            "63/63 [==============================] - 3s 41ms/step - loss: 0.2665 - val_loss: 0.1906\n",
            "Epoch 7/50\n",
            "63/63 [==============================] - 3s 42ms/step - loss: 0.2767 - val_loss: 0.0652\n",
            "Epoch 8/50\n",
            "63/63 [==============================] - 3s 42ms/step - loss: 0.1021 - val_loss: 0.1238\n",
            "Epoch 9/50\n",
            "63/63 [==============================] - 3s 42ms/step - loss: 0.1643 - val_loss: 0.0508\n",
            "Epoch 10/50\n",
            "63/63 [==============================] - 3s 43ms/step - loss: 0.1403 - val_loss: 0.0355\n",
            "Epoch 11/50\n",
            "63/63 [==============================] - 3s 42ms/step - loss: 0.0706 - val_loss: 0.0531\n",
            "Epoch 12/50\n",
            "63/63 [==============================] - 3s 41ms/step - loss: 0.1010 - val_loss: 0.0339\n",
            "Epoch 13/50\n",
            "63/63 [==============================] - 3s 43ms/step - loss: 0.1104 - val_loss: 0.0472\n",
            "Epoch 14/50\n",
            "63/63 [==============================] - 3s 41ms/step - loss: 0.0416 - val_loss: 0.0507\n",
            "Epoch 15/50\n",
            "63/63 [==============================] - 3s 42ms/step - loss: 0.0432 - val_loss: 0.0710\n",
            "Epoch 16/50\n",
            "63/63 [==============================] - 3s 42ms/step - loss: 0.0412 - val_loss: 0.0304\n",
            "Epoch 17/50\n",
            "63/63 [==============================] - 3s 42ms/step - loss: 0.0638 - val_loss: 0.0470\n",
            "Epoch 18/50\n",
            "63/63 [==============================] - 3s 42ms/step - loss: 0.0719 - val_loss: 0.0329\n",
            "Epoch 19/50\n",
            "63/63 [==============================] - 3s 43ms/step - loss: 0.0545 - val_loss: 0.0324\n",
            "Epoch 20/50\n",
            "63/63 [==============================] - 3s 41ms/step - loss: 0.0471 - val_loss: 0.0322\n",
            "Epoch 21/50\n",
            "63/63 [==============================] - 3s 41ms/step - loss: 0.0489 - val_loss: 0.0434\n",
            "Epoch 22/50\n",
            "63/63 [==============================] - 3s 42ms/step - loss: 0.0416 - val_loss: 0.0366\n",
            "Epoch 23/50\n",
            "63/63 [==============================] - 3s 43ms/step - loss: 0.0419 - val_loss: 0.0362\n",
            "Epoch 24/50\n",
            "63/63 [==============================] - 3s 42ms/step - loss: 0.0395 - val_loss: 0.0311\n",
            "Epoch 25/50\n",
            "63/63 [==============================] - 3s 43ms/step - loss: 0.0384 - val_loss: 0.0302\n",
            "Epoch 26/50\n",
            "63/63 [==============================] - 3s 43ms/step - loss: 0.0375 - val_loss: 0.0312\n",
            "Epoch 27/50\n",
            "63/63 [==============================] - 3s 42ms/step - loss: 0.0374 - val_loss: 0.0315\n",
            "Epoch 28/50\n",
            "63/63 [==============================] - 3s 42ms/step - loss: 0.0369 - val_loss: 0.0310\n",
            "Epoch 29/50\n",
            "63/63 [==============================] - 3s 42ms/step - loss: 0.0356 - val_loss: 0.0307\n",
            "Epoch 30/50\n",
            "63/63 [==============================] - 3s 42ms/step - loss: 0.0350 - val_loss: 0.0296\n",
            "Epoch 31/50\n",
            "63/63 [==============================] - 3s 42ms/step - loss: 0.0387 - val_loss: 0.0295\n",
            "Epoch 32/50\n",
            "63/63 [==============================] - 3s 44ms/step - loss: 0.0317 - val_loss: 0.0326\n",
            "Epoch 33/50\n",
            "63/63 [==============================] - 3s 44ms/step - loss: 0.0313 - val_loss: 0.0283\n",
            "Epoch 34/50\n",
            "63/63 [==============================] - 3s 43ms/step - loss: 0.0332 - val_loss: 0.0274\n",
            "Epoch 35/50\n",
            "63/63 [==============================] - 3s 43ms/step - loss: 0.0328 - val_loss: 0.0266\n",
            "Epoch 36/50\n",
            "63/63 [==============================] - 3s 44ms/step - loss: 0.0355 - val_loss: 0.0243\n",
            "Epoch 37/50\n",
            "63/63 [==============================] - 3s 43ms/step - loss: 0.0308 - val_loss: 0.0371\n",
            "Epoch 38/50\n",
            "63/63 [==============================] - 3s 43ms/step - loss: 0.0290 - val_loss: 0.0275\n",
            "Epoch 39/50\n",
            "63/63 [==============================] - 3s 42ms/step - loss: 0.0317 - val_loss: 0.0239\n",
            "Epoch 40/50\n",
            "63/63 [==============================] - 3s 42ms/step - loss: 0.0330 - val_loss: 0.0261\n",
            "Epoch 41/50\n",
            "63/63 [==============================] - 3s 42ms/step - loss: 0.0323 - val_loss: 0.0291\n",
            "Epoch 42/50\n",
            "63/63 [==============================] - 3s 43ms/step - loss: 0.0285 - val_loss: 0.0279\n",
            "Epoch 43/50\n",
            "63/63 [==============================] - 3s 43ms/step - loss: 0.0284 - val_loss: 0.0241\n",
            "Epoch 44/50\n",
            "63/63 [==============================] - 3s 43ms/step - loss: 0.0286 - val_loss: 0.0220\n",
            "Epoch 45/50\n",
            "63/63 [==============================] - 3s 43ms/step - loss: 0.0280 - val_loss: 0.0347\n",
            "Epoch 46/50\n",
            "63/63 [==============================] - 3s 43ms/step - loss: 0.0259 - val_loss: 0.0213\n",
            "Epoch 47/50\n",
            "63/63 [==============================] - 3s 42ms/step - loss: 0.0287 - val_loss: 0.0216\n",
            "Epoch 48/50\n",
            "63/63 [==============================] - 3s 42ms/step - loss: 0.0314 - val_loss: 0.0495\n",
            "Epoch 49/50\n",
            "63/63 [==============================] - 3s 43ms/step - loss: 0.0275 - val_loss: 0.0205\n",
            "Epoch 50/50\n",
            "63/63 [==============================] - 3s 43ms/step - loss: 0.0298 - val_loss: 0.0196\n"
          ]
        }
      ]
    },
    {
      "cell_type": "code",
      "metadata": {
        "colab": {
          "base_uri": "https://localhost:8080/"
        },
        "id": "FO_Mudsm0qxL",
        "outputId": "f2f978c3-d2f7-4448-bbed-5c4c544c8bca"
      },
      "source": [
        "y_pred_cnn = model_cnn.predict(trim_dataset(x_test_t, BATCH_SIZE), batch_size=BATCH_SIZE)\n",
        "y_pred_cnn = y_pred_cnn.flatten()\n",
        "y_test_t = trim_dataset(y_test_t, BATCH_SIZE)\n",
        "\n",
        "error_cnn = mean_squared_error(y_test_t, y_pred_cnn)\n",
        "print(\"Error is\", error_cnn)\n",
        "print(y_pred_cnn[0:15])\n",
        "print(y_test_t[0:15])\n",
        "\n",
        "y_pred_cnn_org = (y_pred_cnn * min_max_scaler.data_range_[3]) + min_max_scaler.data_min_[3]\n",
        "y_test_t_org = (y_test_t * min_max_scaler.data_range_[3]) + min_max_scaler.data_min_[3]\n",
        "\n",
        "print(y_pred_cnn_org[0:15])\n",
        "print(y_test_t_org[0:15])"
      ],
      "execution_count": 134,
      "outputs": [
        {
          "output_type": "stream",
          "name": "stdout",
          "text": [
            "Error is 0.002706769536261979\n",
            "[0.30050176 0.30191612 0.3026464  0.30244637 0.3022907  0.30144656\n",
            " 0.30123514 0.30077016 0.30054653 0.2986919  0.2972221  0.29593566\n",
            " 0.2957086  0.2957725  0.29638353]\n",
            "[0.25667779 0.26544242 0.25292152 0.25250417 0.26168612 0.26627713\n",
            " 0.26502503 0.27128547 0.26544242 0.27045076 0.26335561 0.26794656\n",
            " 0.26836395 0.26836395 0.27003337]\n",
            "[69.00011  69.169556 69.257034 69.23308  69.21443  69.1133   69.08797\n",
            " 69.032265 69.00548  68.783295 68.60721  68.453094 68.42589  68.43355\n",
            " 68.506744]\n",
            "[63.75       64.80000305 63.29999924 63.25       64.34999847 64.90000153\n",
            " 64.75       65.5        64.80000305 65.40000153 64.55000305 65.09999847\n",
            " 65.15000153 65.15000153 65.34999847]\n"
          ]
        },
        {
          "output_type": "stream",
          "name": "stderr",
          "text": [
            "/usr/local/lib/python3.7/dist-packages/tensorflow/python/data/ops/dataset_ops.py:4527: UserWarning: Even though the `tf.config.experimental_run_functions_eagerly` option is set, this option does not apply to tf.data functions. To force eager execution of tf.data functions, please use `tf.data.experimental.enable_debug_mode()`.\n",
            "  \"Even though the `tf.config.experimental_run_functions_eagerly` \"\n"
          ]
        }
      ]
    },
    {
      "cell_type": "code",
      "metadata": {
        "colab": {
          "base_uri": "https://localhost:8080/",
          "height": 407
        },
        "id": "AE_1pDY5077r",
        "outputId": "145ec7ee-3117-4872-e9ba-5c417b4c2172"
      },
      "source": [
        "from matplotlib import pyplot as plt\n",
        "plt.figure(figsize = (12, 6))\n",
        "plt.plot(y_pred_cnn_org)\n",
        "plt.plot(y_test_t_org)\n",
        "plt.title('CNN_MAE')\n",
        "plt.ylabel('Price')\n",
        "plt.xlabel('Days')\n",
        "plt.legend(['Prediction', 'Real'], loc='best')\n",
        "\n",
        "y_test_t_final = np.zeros((len(y_test_t_org)-1,))\n",
        "y_pred_cnn_final = np.zeros((len(y_pred_cnn)-1,))\n",
        "\n",
        "#convert prediction into binary output (up or down movement)\n",
        "for i in range(len(y_pred_cnn_org)-1):\n",
        "    if y_pred_cnn_org[i+1] >= y_pred_cnn_org[i]:\n",
        "        y_pred_cnn_final[i] = 1\n",
        "    else:\n",
        "        y_pred_cnn_final[i] = 0\n",
        "        \n",
        "#convert prediction into binary output (up or down movement)\n",
        "for i in range(len(y_test_t_org)-1):\n",
        "    if y_test_t_org[i+1] >= y_test_t_org[i]:\n",
        "        y_test_t_final[i] = 1\n",
        "    else:\n",
        "        y_test_t_final[i] = 0\n",
        "\n",
        "\n",
        "error_cnn = mean_absolute_error(y_test_t_final, y_pred_cnn_final)\n",
        "print(\"Error is\", error_cnn, y_pred_cnn_final.shape, y_test_t_final.shape)\n",
        "print(y_pred_cnn_final[0:15])\n",
        "print(y_test_t_final[0:15])"
      ],
      "execution_count": 135,
      "outputs": [
        {
          "output_type": "stream",
          "name": "stdout",
          "text": [
            "Error is 0.49440715883668906 (447,) (447,)\n",
            "[1. 1. 0. 0. 0. 0. 0. 0. 0. 0. 0. 0. 1. 1. 1.]\n",
            "[1. 0. 0. 1. 1. 0. 1. 0. 1. 0. 1. 1. 1. 1. 1.]\n"
          ]
        },
        {
          "output_type": "display_data",
          "data": {
            "image/png": "[encoded data removed]",
            "text/plain": [
              "<Figure size 864x432 with 1 Axes>"
            ]
          },
          "metadata": {
            "needs_background": "light"
          }
        }
      ]
    },
    {
      "cell_type": "code",
      "metadata": {
        "id": "qtUjK53L1c0i",
        "colab": {
          "base_uri": "https://localhost:8080/"
        },
        "outputId": "383db59c-9850-4e8d-8ac3-b804ff581e03"
      },
      "source": [
        "(len(y_test_t_org))"
      ],
      "execution_count": 136,
      "outputs": [
        {
          "output_type": "execute_result",
          "data": {
            "text/plain": [
              "448"
            ]
          },
          "metadata": {},
          "execution_count": 136
        }
      ]
    },
    {
      "cell_type": "code",
      "metadata": {
        "id": "ko9iJkgc0Uba"
      },
      "source": [
        ""
      ],
      "execution_count": 136,
      "outputs": []
    }
  ]
}