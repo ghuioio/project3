{
  "nbformat": 4,
  "nbformat_minor": 0,
  "metadata": {
    "colab": {
      "name": "mae_loss.ipynb",
      "provenance": [],
      "collapsed_sections": [],
      "authorship_tag": "ABX9TyOJY2v/agRNIKdwJ36VJT3x",
      "include_colab_link": true
    },
    "kernelspec": {
      "name": "python3",
      "display_name": "Python 3"
    },
    "language_info": {
      "name": "python"
    }
  },
  "cells": [
    {
      "cell_type": "markdown",
      "metadata": {
        "id": "view-in-github",
        "colab_type": "text"
      },
      "source": [
        "<a href=\"https://colab.research.google.com/github/ghuioio/project3/blob/main/mae_loss_v2.ipynb\" target=\"_parent\"><img src=\"https://colab.research.google.com/assets/colab-badge.svg\" alt=\"Open In Colab\"/></a>"
      ]
    },
    {
      "cell_type": "code",
      "metadata": {
        "colab": {
          "base_uri": "https://localhost:8080/"
        },
        "id": "-36p6hV6nCwV",
        "outputId": "377ce6f7-6cfb-4e0c-bb0d-c02b37997a3a"
      },
      "source": [
        "pip install yfinance"
      ],
      "execution_count": 1,
      "outputs": [
        {
          "output_type": "stream",
          "name": "stdout",
          "text": [
            "Collecting yfinance\n",
            "  Downloading yfinance-0.1.67-py2.py3-none-any.whl (25 kB)\n",
            "Requirement already satisfied: pandas>=0.24 in /usr/local/lib/python3.7/dist-packages (from yfinance) (1.1.5)\n",
            "Requirement already satisfied: requests>=2.20 in /usr/local/lib/python3.7/dist-packages (from yfinance) (2.23.0)\n",
            "Requirement already satisfied: numpy>=1.15 in /usr/local/lib/python3.7/dist-packages (from yfinance) (1.19.5)\n",
            "Collecting lxml>=4.5.1\n",
            "  Downloading lxml-4.6.5-cp37-cp37m-manylinux_2_17_x86_64.manylinux2014_x86_64.manylinux_2_24_x86_64.whl (6.3 MB)\n",
            "\u001b[K     |████████████████████████████████| 6.3 MB 7.2 MB/s \n",
            "\u001b[?25hRequirement already satisfied: multitasking>=0.0.7 in /usr/local/lib/python3.7/dist-packages (from yfinance) (0.0.10)\n",
            "Requirement already satisfied: python-dateutil>=2.7.3 in /usr/local/lib/python3.7/dist-packages (from pandas>=0.24->yfinance) (2.8.2)\n",
            "Requirement already satisfied: pytz>=2017.2 in /usr/local/lib/python3.7/dist-packages (from pandas>=0.24->yfinance) (2018.9)\n",
            "Requirement already satisfied: six>=1.5 in /usr/local/lib/python3.7/dist-packages (from python-dateutil>=2.7.3->pandas>=0.24->yfinance) (1.15.0)\n",
            "Requirement already satisfied: chardet<4,>=3.0.2 in /usr/local/lib/python3.7/dist-packages (from requests>=2.20->yfinance) (3.0.4)\n",
            "Requirement already satisfied: idna<3,>=2.5 in /usr/local/lib/python3.7/dist-packages (from requests>=2.20->yfinance) (2.10)\n",
            "Requirement already satisfied: certifi>=2017.4.17 in /usr/local/lib/python3.7/dist-packages (from requests>=2.20->yfinance) (2021.10.8)\n",
            "Requirement already satisfied: urllib3!=1.25.0,!=1.25.1,<1.26,>=1.21.1 in /usr/local/lib/python3.7/dist-packages (from requests>=2.20->yfinance) (1.24.3)\n",
            "Installing collected packages: lxml, yfinance\n",
            "  Attempting uninstall: lxml\n",
            "    Found existing installation: lxml 4.2.6\n",
            "    Uninstalling lxml-4.2.6:\n",
            "      Successfully uninstalled lxml-4.2.6\n",
            "Successfully installed lxml-4.6.5 yfinance-0.1.67\n"
          ]
        }
      ]
    },
    {
      "cell_type": "code",
      "metadata": {
        "id": "XnkZ0AAFnG25"
      },
      "source": [
        "import numpy as np\n",
        "np.random.seed(1) # for reproducibility\n",
        "import keras\n",
        "import keras.backend as K\n",
        "import tensorflow as tf\n",
        "tf.config.run_functions_eagerly(True)\n",
        "import yfinance as yf\n",
        "import matplotlib.pyplot as plt\n",
        "import time\n",
        "import os\n",
        "import pickle\n",
        "import numpy as np\n",
        "from keras.models import Sequential, load_model\n",
        "from keras.layers import LSTM, Dense\n",
        "from keras.callbacks import ModelCheckpoint\n",
        "from keras import optimizers\n",
        "from sklearn.preprocessing import MinMaxScaler\n",
        "from sklearn.model_selection import train_test_split\n",
        "from sklearn.metrics import mean_squared_error, mean_absolute_error"
      ],
      "execution_count": 2,
      "outputs": []
    },
    {
      "cell_type": "code",
      "metadata": {
        "colab": {
          "base_uri": "https://localhost:8080/"
        },
        "id": "0jM1BM4snH52",
        "outputId": "8063a032-de8c-439c-8e47-c2b5bfeae169"
      },
      "source": [
        "hsbc = yf.download('0005.HK', '2000-01-01', '2021-01-01')\n",
        "hsbc = hsbc.drop(['Adj Close'], axis=1)\n",
        "hsbc = hsbc.drop(hsbc[hsbc.Volume==0].index)\n",
        "print(hsbc.head())"
      ],
      "execution_count": 3,
      "outputs": [
        {
          "output_type": "stream",
          "name": "stdout",
          "text": [
            "\r[*********************100%***********************]  1 of 1 completed\n",
            "             Open   High     Low  Close    Volume\n",
            "Date                                             \n",
            "2000-01-03  111.0  111.5  107.50  108.0   3908164\n",
            "2000-01-04  106.0  106.5  105.00  106.0   6895378\n",
            "2000-01-05  101.0  102.0   99.50  100.5  14657098\n",
            "2000-01-06  101.0  102.0   96.25   97.0  10632084\n",
            "2000-01-07   98.5  101.0   97.50  100.5   8368286\n"
          ]
        }
      ]
    },
    {
      "cell_type": "code",
      "metadata": {
        "colab": {
          "base_uri": "https://localhost:8080/",
          "height": 279
        },
        "id": "O6N0ThhDnKy7",
        "outputId": "79a28d11-9720-475a-ec77-a83308a6763a"
      },
      "source": [
        "fig, ax1 = plt.subplots()\n",
        "ax1.set_title('HSBC stock price', fontsize=10)\n",
        "ax1.plot(hsbc['Close'])\n",
        "plt.show()"
      ],
      "execution_count": 4,
      "outputs": [
        {
          "output_type": "display_data",
          "data": {
            "image/png": "[encoded data removed]",
            "text/plain": [
              "<Figure size 432x288 with 1 Axes>"
            ]
          },
          "metadata": {
            "needs_background": "light"
          }
        }
      ]
    },
    {
      "cell_type": "code",
      "metadata": {
        "colab": {
          "base_uri": "https://localhost:8080/"
        },
        "id": "Ois9CTvynN2R",
        "outputId": "4805bbcd-ae31-4143-b866-50023b5e9b91"
      },
      "source": [
        "train_cols = [\"Open\",\"High\",\"Low\",\"Close\",\"Volume\"]\n",
        "df_train, df_test = train_test_split(hsbc, train_size=0.8, test_size=0.2, shuffle=False)\n",
        "print(\"Training data set size -\", len(df_train))\n",
        "print(\"Test data set size -\", len(df_test))"
      ],
      "execution_count": 5,
      "outputs": [
        {
          "output_type": "stream",
          "name": "stdout",
          "text": [
            "Training data set size - 4140\n",
            "Test data set size - 1035\n"
          ]
        }
      ]
    },
    {
      "cell_type": "code",
      "metadata": {
        "colab": {
          "base_uri": "https://localhost:8080/"
        },
        "id": "lrcLw7ljnP7r",
        "outputId": "3a0bc565-08db-40b3-cd46-e6d10e0ba70c"
      },
      "source": [
        "x = df_train.loc[:,train_cols].values\n",
        "min_max_scaler = MinMaxScaler()\n",
        "x_train = min_max_scaler.fit_transform(x)\n",
        "x_test = min_max_scaler.transform(df_test.loc[:,train_cols])"
      ],
      "execution_count": 6,
      "outputs": [
        {
          "output_type": "stream",
          "name": "stderr",
          "text": [
            "/usr/local/lib/python3.7/dist-packages/sklearn/base.py:439: UserWarning: X has feature names, but MinMaxScaler was fitted without feature names\n",
            "  f\"X has feature names, but {self.__class__.__name__} was fitted without\"\n"
          ]
        }
      ]
    },
    {
      "cell_type": "code",
      "metadata": {
        "id": "DW5TOTgDnWi2"
      },
      "source": [
        "#set parameters for model\n",
        "params = {\n",
        "    \"BATCH_SIZE\": 64,\n",
        "    \"EPOCHS\": 50,\n",
        "    \"LR\": 0.00010000,\n",
        "    \"TIME_STEPS\": 60\n",
        "    }\n",
        "TIME_STEPS = params['TIME_STEPS']\n",
        "BATCH_SIZE = params['BATCH_SIZE']\n",
        "stime = time.time()\n",
        "\n",
        "def print_time(text, stime):\n",
        "    seconds = (time.time()-stime)\n",
        "    print(text, seconds//60,\"minutes : \", np.round(seconds%60),\"seconds\")"
      ],
      "execution_count": 7,
      "outputs": []
    },
    {
      "cell_type": "code",
      "metadata": {
        "id": "1QGi3fprnhrK"
      },
      "source": [
        "def trim_dataset(mat, batch_size):\n",
        "    \n",
        "    #trims dataset to a size that's divisible by BATCH_SIZE\n",
        "    no_of_rows_drop = mat.shape[0] % batch_size\n",
        "\n",
        "    if no_of_rows_drop > 0:\n",
        "        return mat[:-no_of_rows_drop]\n",
        "    else:\n",
        "        return mat"
      ],
      "execution_count": 8,
      "outputs": []
    },
    {
      "cell_type": "code",
      "metadata": {
        "colab": {
          "base_uri": "https://localhost:8080/"
        },
        "id": "uamiHUbgnbZh",
        "outputId": "3c870749-2096-44d2-d7a1-00d2b0389d0e"
      },
      "source": [
        "def build_timeseries(mat, y_col_index):\n",
        "    \n",
        "    dim_0 = mat.shape[0] - TIME_STEPS\n",
        "    dim_1 = mat.shape[1]\n",
        "\n",
        "    x = np.zeros((dim_0, TIME_STEPS, dim_1))\n",
        "    y = np.zeros((dim_0,))\n",
        "\n",
        "    print(\"Length of inputs\", dim_0)\n",
        "\n",
        "    for i in range(dim_0):\n",
        "        x[i] = mat[i:TIME_STEPS+i]\n",
        "        y[i] = mat[TIME_STEPS+i, y_col_index]\n",
        "\n",
        "    print(\"length of time-series - inputs\", x.shape)\n",
        "    print(\"length of time-series - outputs\", y.shape)\n",
        "\n",
        "    return x, y\n",
        "\n",
        "x_t, y_t = build_timeseries(x_train, 3)\n",
        "x_t = trim_dataset(x_t, BATCH_SIZE)\n",
        "y_t = trim_dataset(y_t, BATCH_SIZE)\n",
        "print(\"Batch trimmed size\", x_t.shape, y_t.shape)"
      ],
      "execution_count": 9,
      "outputs": [
        {
          "output_type": "stream",
          "name": "stdout",
          "text": [
            "Length of inputs 4080\n",
            "length of time-series - inputs (4080, 60, 5)\n",
            "length of time-series - outputs (4080,)\n",
            "Batch trimmed size (4032, 60, 5) (4032,)\n"
          ]
        }
      ]
    },
    {
      "cell_type": "code",
      "metadata": {
        "colab": {
          "base_uri": "https://localhost:8080/"
        },
        "id": "ErlgL5-3nlKl",
        "outputId": "226006a7-c1eb-4b36-bd2e-c2065b48ea80"
      },
      "source": [
        "model_lstm = Sequential()\n",
        "model_lstm.add(LSTM(100, batch_input_shape=(BATCH_SIZE, TIME_STEPS, x_t.shape[2]),\n",
        "                    dropout=0.4, recurrent_dropout=0.0,\n",
        "                    stateful=True, return_sequences=True,\n",
        "                    kernel_initializer='random_uniform'))\n",
        "model_lstm.add(LSTM(60, dropout=0.4))\n",
        "model_lstm.add(Dense(100,activation='relu'))\n",
        "model_lstm.add(Dense(1, activation='sigmoid'))\n",
        "model_lstm.compile(loss='mae', optimizer= tf.optimizers.Adam(lr=params[\"LR\"]))"
      ],
      "execution_count": 10,
      "outputs": [
        {
          "output_type": "stream",
          "name": "stderr",
          "text": [
            "/usr/local/lib/python3.7/dist-packages/keras/optimizer_v2/adam.py:105: UserWarning: The `lr` argument is deprecated, use `learning_rate` instead.\n",
            "  super(Adam, self).__init__(name, **kwargs)\n"
          ]
        }
      ]
    },
    {
      "cell_type": "code",
      "metadata": {
        "colab": {
          "base_uri": "https://localhost:8080/"
        },
        "id": "b_-cTwyVn7i6",
        "outputId": "b3532bbb-f33a-4411-de78-f2f9aa921585"
      },
      "source": [
        "x_temp, y_temp = build_timeseries(x_test, 3)\n",
        "x_val, x_test_t = np.array_split(trim_dataset(x_temp, BATCH_SIZE), 2)\n",
        "y_val, y_test_t = np.array_split(trim_dataset(y_temp, BATCH_SIZE), 2)\n",
        "print(\"Test size\", x_test_t.shape, y_test_t.shape, x_val.shape, y_val.shape)"
      ],
      "execution_count": 11,
      "outputs": [
        {
          "output_type": "stream",
          "name": "stdout",
          "text": [
            "Length of inputs 975\n",
            "length of time-series - inputs (975, 60, 5)\n",
            "length of time-series - outputs (975,)\n",
            "Test size (480, 60, 5) (480,) (480, 60, 5) (480,)\n"
          ]
        }
      ]
    },
    {
      "cell_type": "code",
      "metadata": {
        "colab": {
          "base_uri": "https://localhost:8080/"
        },
        "id": "7txf95NCn-pL",
        "outputId": "a1df8267-64fa-46f1-cab0-de6caf9d2d9f"
      },
      "source": [
        "history_lstm = model_lstm.fit(x_t, y_t, epochs=params[\"EPOCHS\"], verbose=0, batch_size=BATCH_SIZE,\n",
        "                      shuffle=False, validation_data=(trim_dataset(x_val, BATCH_SIZE),\n",
        "                      trim_dataset(y_val, BATCH_SIZE)),)"
      ],
      "execution_count": 12,
      "outputs": [
        {
          "output_type": "stream",
          "name": "stderr",
          "text": [
            "/usr/local/lib/python3.7/dist-packages/tensorflow/python/data/ops/dataset_ops.py:4527: UserWarning: Even though the `tf.config.experimental_run_functions_eagerly` option is set, this option does not apply to tf.data functions. To force eager execution of tf.data functions, please use `tf.data.experimental.enable_debug_mode()`.\n",
            "  \"Even though the `tf.config.experimental_run_functions_eagerly` \"\n"
          ]
        }
      ]
    },
    {
      "cell_type": "code",
      "metadata": {
        "colab": {
          "base_uri": "https://localhost:8080/"
        },
        "id": "ee8V9ww9oQcO",
        "outputId": "62e9cf54-616d-4e5e-bb06-878c8855659d"
      },
      "source": [
        "y_pred_lstm = model_lstm.predict(trim_dataset(x_test_t, BATCH_SIZE), batch_size=BATCH_SIZE)\n",
        "y_pred_lstm = y_pred_lstm.flatten()\n",
        "y_test_t = trim_dataset(y_test_t, BATCH_SIZE)\n",
        "\n",
        "error_lstm = mean_squared_error(y_test_t, y_pred_lstm)\n",
        "print(\"Error is\", error_lstm, y_pred_lstm.shape, y_test_t.shape)\n",
        "print(y_pred_lstm[0:15])\n",
        "print(y_test_t[0:15])\n",
        "\n",
        "y_pred_lstm_org = (y_pred_lstm * min_max_scaler.data_range_[3]) + min_max_scaler.data_min_[3]\n",
        "y_test_t_org = (y_test_t * min_max_scaler.data_range_[3]) + min_max_scaler.data_min_[3]\n",
        "\n",
        "print(y_pred_lstm_org[0:15])\n",
        "print(y_test_t_org[0:15])"
      ],
      "execution_count": 13,
      "outputs": [
        {
          "output_type": "stream",
          "name": "stderr",
          "text": [
            "/usr/local/lib/python3.7/dist-packages/tensorflow/python/data/ops/dataset_ops.py:4527: UserWarning: Even though the `tf.config.experimental_run_functions_eagerly` option is set, this option does not apply to tf.data functions. To force eager execution of tf.data functions, please use `tf.data.experimental.enable_debug_mode()`.\n",
            "  \"Even though the `tf.config.experimental_run_functions_eagerly` \"\n"
          ]
        },
        {
          "output_type": "stream",
          "name": "stdout",
          "text": [
            "Error is 0.0022059756291091196 (448,) (448,)\n",
            "[0.25507045 0.2552064  0.25529838 0.2555591  0.25558186 0.25555596\n",
            " 0.25551862 0.255576   0.25576186 0.2557957  0.25571805 0.25580603\n",
            " 0.25591752 0.25600368 0.2561831 ]\n",
            "[0.2587646  0.25667779 0.26544242 0.25292152 0.25250417 0.26168612\n",
            " 0.26627713 0.26502503 0.27128547 0.26544242 0.27045076 0.26335561\n",
            " 0.26794656 0.26836395 0.26836395]\n",
            "[63.55744  63.57373  63.584747 63.615982 63.618706 63.615604 63.61113\n",
            " 63.618008 63.640274 63.644325 63.635025 63.64556  63.65892  63.669243\n",
            " 63.690735]\n",
            "[64.         63.75       64.80000305 63.29999924 63.25       64.34999847\n",
            " 64.90000153 64.75       65.5        64.80000305 65.40000153 64.55000305\n",
            " 65.09999847 65.15000153 65.15000153]\n"
          ]
        }
      ]
    },
    {
      "cell_type": "code",
      "metadata": {
        "colab": {
          "base_uri": "https://localhost:8080/",
          "height": 421
        },
        "id": "GyZCg9mzoZX7",
        "outputId": "84ccbd16-0f9c-429d-87a0-9346c12a8924"
      },
      "source": [
        "from matplotlib import pyplot as plt\n",
        "plt.figure(figsize = (12, 6))\n",
        "plt.plot(y_pred_lstm_org)\n",
        "plt.plot(y_test_t_org)\n",
        "plt.title('LSTM_MAE')\n",
        "plt.ylabel('Price')\n",
        "plt.xlabel('Days')\n",
        "plt.legend(['Prediction', 'Real'], loc='best')\n",
        "\n",
        "y_test_t_final = np.zeros((len(y_test_t_org)-1,))\n",
        "y_pred_lstm_final = np.zeros((len(y_pred_lstm)-1,))\n",
        "\n",
        "for i in range(len(y_pred_lstm_org)-1):\n",
        "    if y_pred_lstm_org[i+1] >= y_pred_lstm_org[i]:\n",
        "        y_pred_lstm_final[i] = 1\n",
        "    else:\n",
        "        y_pred_lstm_final[i] = 0\n",
        "        \n",
        "for i in range(len(y_test_t_org)-1):\n",
        "    if y_test_t_org[i+1] >= y_test_t_org[i]:\n",
        "        y_test_t_final[i] = 1\n",
        "    else:\n",
        "        y_test_t_final[i] = 0\n",
        "\n",
        "error_lstm = mean_absolute_error(y_test_t_final, y_pred_lstm_final)\n",
        "print(\"Error is\", error_lstm)"
      ],
      "execution_count": 14,
      "outputs": [
        {
          "output_type": "stream",
          "name": "stdout",
          "text": [
            "Error is 0.5078299776286354\n"
          ]
        },
        {
          "output_type": "display_data",
          "data": {
            "image/png": "[encoded data removed]",
            "text/plain": [
              "<Figure size 864x432 with 1 Axes>"
            ]
          },
          "metadata": {
            "needs_background": "light"
          }
        }
      ]
    },
    {
      "cell_type": "code",
      "metadata": {
        "id": "8936zT_GyI-r"
      },
      "source": [
        "from keras.models import Sequential\n",
        "from keras.layers import Dense\n",
        "from keras.layers import Flatten\n",
        "from keras.layers import Dropout\n",
        "from keras.layers.convolutional import Conv1D\n",
        "from keras.layers.convolutional import MaxPooling1D\n",
        "model_cnn = Sequential()\n",
        "model_cnn.add(Conv1D(filters=128, kernel_size=3, activation='relu', input_shape=(60,5)))\n",
        "model_cnn.add(Conv1D(filters=64, kernel_size=3, activation='relu'))\n",
        "model_cnn.add(MaxPooling1D(pool_size=2))\n",
        "model_cnn.add(Flatten())\n",
        "model_cnn.add(Dense(100, activation='relu'))\n",
        "model_cnn.add(Dense(1, activation='sigmoid'))\n",
        "model_cnn.compile(loss='mae', optimizer='adam')"
      ],
      "execution_count": 15,
      "outputs": []
    },
    {
      "cell_type": "code",
      "metadata": {
        "colab": {
          "base_uri": "https://localhost:8080/"
        },
        "id": "Lsr4pzKnyTSj",
        "outputId": "96ba43d5-d0c3-4194-eda4-ce0c367567ef"
      },
      "source": [
        "history_cnn = model_cnn.fit(x_t, y_t, epochs=params[\"EPOCHS\"], verbose=0, batch_size=BATCH_SIZE,\n",
        "                      shuffle=False, validation_data=(trim_dataset(x_val, BATCH_SIZE),\n",
        "                      trim_dataset(y_val, BATCH_SIZE)),)"
      ],
      "execution_count": 16,
      "outputs": [
        {
          "output_type": "stream",
          "name": "stdout",
          "text": [
            "Epoch 1/50\n",
            "\r 1/63 [..............................] - ETA: 7s - loss: 0.0512"
          ]
        },
        {
          "output_type": "stream",
          "name": "stderr",
          "text": [
            "/usr/local/lib/python3.7/dist-packages/tensorflow/python/data/ops/dataset_ops.py:4527: UserWarning: Even though the `tf.config.experimental_run_functions_eagerly` option is set, this option does not apply to tf.data functions. To force eager execution of tf.data functions, please use `tf.data.experimental.enable_debug_mode()`.\n",
            "  \"Even though the `tf.config.experimental_run_functions_eagerly` \"\n"
          ]
        },
        {
          "output_type": "stream",
          "name": "stdout",
          "text": [
            "63/63 [==============================] - 3s 50ms/step - loss: 0.1765 - val_loss: 0.0862\n",
            "Epoch 2/50\n",
            "63/63 [==============================] - 3s 50ms/step - loss: 0.1808 - val_loss: 0.0544\n",
            "Epoch 3/50\n",
            "63/63 [==============================] - 3s 51ms/step - loss: 0.1939 - val_loss: 0.0480\n",
            "Epoch 4/50\n",
            "63/63 [==============================] - 3s 50ms/step - loss: 0.1951 - val_loss: 0.2196\n",
            "Epoch 5/50\n",
            "63/63 [==============================] - 3s 49ms/step - loss: 0.2795 - val_loss: 0.0571\n",
            "Epoch 6/50\n",
            "63/63 [==============================] - 3s 49ms/step - loss: 0.2325 - val_loss: 0.1589\n",
            "Epoch 7/50\n",
            "63/63 [==============================] - 3s 49ms/step - loss: 0.1821 - val_loss: 0.1274\n",
            "Epoch 8/50\n",
            "63/63 [==============================] - 3s 49ms/step - loss: 0.1881 - val_loss: 0.1442\n",
            "Epoch 9/50\n",
            "63/63 [==============================] - 3s 50ms/step - loss: 0.1691 - val_loss: 0.0578\n",
            "Epoch 10/50\n",
            "63/63 [==============================] - 3s 49ms/step - loss: 0.1897 - val_loss: 0.1070\n",
            "Epoch 11/50\n",
            "63/63 [==============================] - 3s 49ms/step - loss: 0.1752 - val_loss: 0.1438\n",
            "Epoch 12/50\n",
            "63/63 [==============================] - 3s 51ms/step - loss: 0.2453 - val_loss: 0.0869\n",
            "Epoch 13/50\n",
            "63/63 [==============================] - 3s 49ms/step - loss: 0.1743 - val_loss: 0.0593\n",
            "Epoch 14/50\n",
            "63/63 [==============================] - 3s 49ms/step - loss: 0.2057 - val_loss: 0.1706\n",
            "Epoch 15/50\n",
            "63/63 [==============================] - 3s 50ms/step - loss: 0.1605 - val_loss: 0.0444\n",
            "Epoch 16/50\n",
            "63/63 [==============================] - 3s 49ms/step - loss: 0.1700 - val_loss: 0.0791\n",
            "Epoch 17/50\n",
            "63/63 [==============================] - 3s 49ms/step - loss: 0.1916 - val_loss: 0.0484\n",
            "Epoch 18/50\n",
            "63/63 [==============================] - 3s 49ms/step - loss: 0.2024 - val_loss: 0.1059\n",
            "Epoch 19/50\n",
            "63/63 [==============================] - 3s 50ms/step - loss: 0.1323 - val_loss: 0.0399\n",
            "Epoch 20/50\n",
            "63/63 [==============================] - 3s 49ms/step - loss: 0.0989 - val_loss: 0.0381\n",
            "Epoch 21/50\n",
            "63/63 [==============================] - 3s 48ms/step - loss: 0.1096 - val_loss: 0.0365\n",
            "Epoch 22/50\n",
            "63/63 [==============================] - 3s 52ms/step - loss: 0.0556 - val_loss: 0.0458\n",
            "Epoch 23/50\n",
            "63/63 [==============================] - 3s 49ms/step - loss: 0.0669 - val_loss: 0.0535\n",
            "Epoch 24/50\n",
            "63/63 [==============================] - 3s 49ms/step - loss: 0.0515 - val_loss: 0.0519\n",
            "Epoch 25/50\n",
            "63/63 [==============================] - 3s 50ms/step - loss: 0.0549 - val_loss: 0.0500\n",
            "Epoch 26/50\n",
            "63/63 [==============================] - 3s 49ms/step - loss: 0.0508 - val_loss: 0.0458\n",
            "Epoch 27/50\n",
            "63/63 [==============================] - 3s 48ms/step - loss: 0.0762 - val_loss: 0.0362\n",
            "Epoch 28/50\n",
            "63/63 [==============================] - 3s 50ms/step - loss: 0.0622 - val_loss: 0.0371\n",
            "Epoch 29/50\n",
            "63/63 [==============================] - 3s 49ms/step - loss: 0.0506 - val_loss: 0.0383\n",
            "Epoch 30/50\n",
            "63/63 [==============================] - 3s 49ms/step - loss: 0.0501 - val_loss: 0.0394\n",
            "Epoch 31/50\n",
            "63/63 [==============================] - 3s 49ms/step - loss: 0.0493 - val_loss: 0.0465\n",
            "Epoch 32/50\n",
            "63/63 [==============================] - 3s 50ms/step - loss: 0.0492 - val_loss: 0.0458\n",
            "Epoch 33/50\n",
            "63/63 [==============================] - 3s 48ms/step - loss: 0.0466 - val_loss: 0.0446\n",
            "Epoch 34/50\n",
            "63/63 [==============================] - 3s 49ms/step - loss: 0.0423 - val_loss: 0.0423\n",
            "Epoch 35/50\n",
            "63/63 [==============================] - 3s 50ms/step - loss: 0.0428 - val_loss: 0.0411\n",
            "Epoch 36/50\n",
            "63/63 [==============================] - 3s 48ms/step - loss: 0.0425 - val_loss: 0.0423\n",
            "Epoch 37/50\n",
            "63/63 [==============================] - 3s 48ms/step - loss: 0.0396 - val_loss: 0.0377\n",
            "Epoch 38/50\n",
            "63/63 [==============================] - 3s 51ms/step - loss: 0.0397 - val_loss: 0.0355\n",
            "Epoch 39/50\n",
            "63/63 [==============================] - 3s 48ms/step - loss: 0.0365 - val_loss: 0.0498\n",
            "Epoch 40/50\n",
            "63/63 [==============================] - 3s 48ms/step - loss: 0.0343 - val_loss: 0.0380\n",
            "Epoch 41/50\n",
            "63/63 [==============================] - 3s 50ms/step - loss: 0.0362 - val_loss: 0.0345\n",
            "Epoch 42/50\n",
            "63/63 [==============================] - 3s 48ms/step - loss: 0.0344 - val_loss: 0.0333\n",
            "Epoch 43/50\n",
            "63/63 [==============================] - 3s 49ms/step - loss: 0.0342 - val_loss: 0.0339\n",
            "Epoch 44/50\n",
            "63/63 [==============================] - 3s 51ms/step - loss: 0.0323 - val_loss: 0.0359\n",
            "Epoch 45/50\n",
            "63/63 [==============================] - 3s 51ms/step - loss: 0.0303 - val_loss: 0.0326\n",
            "Epoch 46/50\n",
            "63/63 [==============================] - 3s 50ms/step - loss: 0.0311 - val_loss: 0.0281\n",
            "Epoch 47/50\n",
            "63/63 [==============================] - 3s 51ms/step - loss: 0.0331 - val_loss: 0.0369\n",
            "Epoch 48/50\n",
            "63/63 [==============================] - 3s 49ms/step - loss: 0.0297 - val_loss: 0.0319\n",
            "Epoch 49/50\n",
            "63/63 [==============================] - 3s 50ms/step - loss: 0.0307 - val_loss: 0.0270\n",
            "Epoch 50/50\n",
            "63/63 [==============================] - 3s 49ms/step - loss: 0.0321 - val_loss: 0.0254\n"
          ]
        }
      ]
    },
    {
      "cell_type": "code",
      "metadata": {
        "colab": {
          "base_uri": "https://localhost:8080/"
        },
        "id": "FO_Mudsm0qxL",
        "outputId": "a440c0f2-7a6e-4991-ae6e-c43ca9e7ebc0"
      },
      "source": [
        "y_pred_cnn = model_cnn.predict(trim_dataset(x_test_t, BATCH_SIZE), batch_size=BATCH_SIZE)\n",
        "y_pred_cnn = y_pred_cnn.flatten()\n",
        "y_test_t = trim_dataset(y_test_t, BATCH_SIZE)\n",
        "\n",
        "error_cnn = mean_squared_error(y_test_t, y_pred_cnn)\n",
        "print(\"Error is\", error_cnn)\n",
        "print(y_pred_cnn[0:15])\n",
        "print(y_test_t[0:15])\n",
        "\n",
        "y_pred_cnn_org = (y_pred_cnn * min_max_scaler.data_range_[3]) + min_max_scaler.data_min_[3]\n",
        "y_test_t_org = (y_test_t * min_max_scaler.data_range_[3]) + min_max_scaler.data_min_[3]\n",
        "\n",
        "print(y_pred_cnn_org[0:15])\n",
        "print(y_test_t_org[0:15])"
      ],
      "execution_count": 17,
      "outputs": [
        {
          "output_type": "stream",
          "name": "stdout",
          "text": [
            "Error is 0.003585601963432608\n",
            "[0.27753335 0.2798662  0.28214592 0.28469062 0.28656876 0.28804544\n",
            " 0.2893154  0.29089427 0.2922824  0.29365486 0.29377675 0.29380336\n",
            " 0.29323113 0.29294056 0.29202422]\n",
            "[0.2587646  0.25667779 0.26544242 0.25292152 0.25250417 0.26168612\n",
            " 0.26627713 0.26502503 0.27128547 0.26544242 0.27045076 0.26335561\n",
            " 0.26794656 0.26836395 0.26836395]\n",
            "[66.2485   66.52797  66.80109  67.10594  67.33094  67.50784  67.65999\n",
            " 67.84914  68.015434 68.179855 68.19446  68.19765  68.12909  68.094284\n",
            " 67.984505]\n",
            "[64.         63.75       64.80000305 63.29999924 63.25       64.34999847\n",
            " 64.90000153 64.75       65.5        64.80000305 65.40000153 64.55000305\n",
            " 65.09999847 65.15000153 65.15000153]\n"
          ]
        },
        {
          "output_type": "stream",
          "name": "stderr",
          "text": [
            "/usr/local/lib/python3.7/dist-packages/tensorflow/python/data/ops/dataset_ops.py:4527: UserWarning: Even though the `tf.config.experimental_run_functions_eagerly` option is set, this option does not apply to tf.data functions. To force eager execution of tf.data functions, please use `tf.data.experimental.enable_debug_mode()`.\n",
            "  \"Even though the `tf.config.experimental_run_functions_eagerly` \"\n"
          ]
        }
      ]
    },
    {
      "cell_type": "code",
      "metadata": {
        "colab": {
          "base_uri": "https://localhost:8080/",
          "height": 454
        },
        "id": "AE_1pDY5077r",
        "outputId": "93b7cc86-4b43-48e6-f0a7-9650299ad0b2"
      },
      "source": [
        "from matplotlib import pyplot as plt\n",
        "plt.figure(figsize = (12, 6))\n",
        "plt.plot(y_pred_cnn_org)\n",
        "plt.plot(y_test_t_org)\n",
        "plt.title('CNN_MAE')\n",
        "plt.ylabel('Price')\n",
        "plt.xlabel('Days')\n",
        "plt.legend(['Prediction', 'Real'], loc='best')\n",
        "\n",
        "y_test_t_final = np.zeros((len(y_test_t_org)-1,))\n",
        "y_pred_cnn_final = np.zeros((len(y_pred_cnn)-1,))\n",
        "\n",
        "#convert prediction into binary output (up or down movement)\n",
        "for i in range(len(y_pred_cnn_org)-1):\n",
        "    if y_pred_cnn_org[i+1] >= y_pred_cnn_org[i]:\n",
        "        y_pred_cnn_final[i] = 1\n",
        "    else:\n",
        "        y_pred_cnn_final[i] = 0\n",
        "        \n",
        "#convert prediction into binary output (up or down movement)\n",
        "for i in range(len(y_test_t_org)-1):\n",
        "    if y_test_t_org[i+1] >= y_test_t_org[i]:\n",
        "        y_test_t_final[i] = 1\n",
        "    else:\n",
        "        y_test_t_final[i] = 0\n",
        "\n",
        "\n",
        "error_cnn = mean_absolute_error(y_test_t_final, y_pred_cnn_final)\n",
        "print(\"Error is\", error_cnn, y_pred_cnn_final.shape, y_test_t_final.shape)\n",
        "print(y_pred_cnn_final[0:15])\n",
        "print(y_test_t_final[0:15])"
      ],
      "execution_count": 18,
      "outputs": [
        {
          "output_type": "stream",
          "name": "stdout",
          "text": [
            "Error is 0.48769574944071586 (447,) (447,)\n",
            "[1. 1. 1. 1. 1. 1. 1. 1. 1. 1. 1. 0. 0. 0. 0.]\n",
            "[0. 1. 0. 0. 1. 1. 0. 1. 0. 1. 0. 1. 1. 1. 1.]\n"
          ]
        },
        {
          "output_type": "display_data",
          "data": {
            "image/png": "[encoded data removed]",
            "text/plain": [
              "<Figure size 864x432 with 1 Axes>"
            ]
          },
          "metadata": {
            "needs_background": "light"
          }
        }
      ]
    }
  ]
}